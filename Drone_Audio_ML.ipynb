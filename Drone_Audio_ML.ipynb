{
  "nbformat": 4,
  "nbformat_minor": 0,
  "metadata": {
    "colab": {
      "name": "Drone_Audio_ML.ipynb",
      "provenance": [],
      "authorship_tag": "ABX9TyNmQOoxc19RaLkuJKtbARwD",
      "include_colab_link": true
    },
    "kernelspec": {
      "name": "python3",
      "display_name": "Python 3"
    },
    "language_info": {
      "name": "python"
    }
  },
  "cells": [
    {
      "cell_type": "markdown",
      "metadata": {
        "id": "view-in-github",
        "colab_type": "text"
      },
      "source": [
        "<a href=\"https://colab.research.google.com/github/ctrivino1/DroneAudioDataset/blob/master/Drone_Audio_ML.ipynb\" target=\"_parent\"><img src=\"https://colab.research.google.com/assets/colab-badge.svg\" alt=\"Open In Colab\"/></a>"
      ]
    },
    {
      "cell_type": "markdown",
      "source": [
        "## Citing: \n",
        "\n",
        "@misc{Zenkov-sklearn-SER-basics,\n",
        "  author = {Zenkov, Ilia},\n",
        "  title = {sklearn-audio-classification},\n",
        "  year = {2020},\n",
        "  publisher = {GitHub},\n",
        "  journal = {GitHub repository},\n",
        "  howpublished = {\\url{https://github.com/IliaZenkov/sklearn-audio-classification}},\n",
        "}"
      ],
      "metadata": {
        "id": "mk0QKi4OOV9n"
      }
    },
    {
      "cell_type": "code",
      "metadata": {
        "id": "dBGSsdlulafd",
        "colab": {
          "base_uri": "https://localhost:8080/"
        },
        "outputId": "ef9e7412-4a14-4946-cd09-19f360549fed"
      },
      "source": [
        "!git clone https://github.com/ctrivino1/DroneAudioDataset"
      ],
      "execution_count": 96,
      "outputs": [
        {
          "output_type": "stream",
          "name": "stdout",
          "text": [
            "fatal: destination path 'DroneAudioDataset' already exists and is not an empty directory.\n"
          ]
        }
      ]
    },
    {
      "cell_type": "code",
      "metadata": {
        "id": "iGs8vWWmmY9g",
        "colab": {
          "base_uri": "https://localhost:8080/",
          "height": 237
        },
        "outputId": "82724716-af04-4ae5-fcd5-157453cbe795"
      },
      "source": [
        "# Get the critical imports out of the way\n",
        "import matplotlib.pyplot as plt\n",
        "import pandas as pd\n",
        "import numpy as np\n",
        "import librosa.display\n",
        "import soundfile\n",
        "import os\n",
        "# matplotlib complains about the behaviour of librosa.display, so we'll ignore those warnings:\n",
        "import warnings; warnings.filterwarnings('ignore')\n",
        "import datetime\n",
        "%load_ext tensorboard\n",
        "from tensorflow.python.keras.callbacks import TensorBoard\n",
        "!pip install keras-rectified-adam\n",
        "from keras_radam import RAdam\n",
        "import tensorflow as tf\n",
        "from tensorflow import keras\n",
        "from keras import layers\n",
        "from tensorflow.keras.applications import ResNet50\n",
        "!pip install tensorflow_addons\n",
        "import tensorflow_addons as tfa\n",
        "from IPython.core.display import HTML \n",
        "# Center matplotlib figures...\n",
        "HTML(\"\"\"\n",
        "<style>\n",
        ".output_png {\n",
        "    display: table-cell;\n",
        "    text-align: center;\n",
        "    vertical-align: middle;\n",
        "}\n",
        "</style>\n",
        "\"\"\")"
      ],
      "execution_count": 123,
      "outputs": [
        {
          "output_type": "stream",
          "name": "stdout",
          "text": [
            "The tensorboard extension is already loaded. To reload it, use:\n",
            "  %reload_ext tensorboard\n",
            "Requirement already satisfied: keras-rectified-adam in /usr/local/lib/python3.7/dist-packages (0.19.0)\n",
            "Requirement already satisfied: Keras in /usr/local/lib/python3.7/dist-packages (from keras-rectified-adam) (2.7.0)\n",
            "Requirement already satisfied: numpy in /usr/local/lib/python3.7/dist-packages (from keras-rectified-adam) (1.19.5)\n",
            "Collecting tensorflow_addons\n",
            "  Downloading tensorflow_addons-0.15.0-cp37-cp37m-manylinux_2_12_x86_64.manylinux2010_x86_64.whl (1.1 MB)\n",
            "\u001b[K     |████████████████████████████████| 1.1 MB 27.1 MB/s \n",
            "\u001b[?25hRequirement already satisfied: typeguard>=2.7 in /usr/local/lib/python3.7/dist-packages (from tensorflow_addons) (2.7.1)\n",
            "Installing collected packages: tensorflow-addons\n",
            "Successfully installed tensorflow-addons-0.15.0\n"
          ]
        },
        {
          "output_type": "execute_result",
          "data": {
            "text/html": [
              "\n",
              "<style>\n",
              ".output_png {\n",
              "    display: table-cell;\n",
              "    text-align: center;\n",
              "    vertical-align: middle;\n",
              "}\n",
              "</style>\n"
            ],
            "text/plain": [
              "<IPython.core.display.HTML object>"
            ]
          },
          "metadata": {},
          "execution_count": 123
        }
      ]
    },
    {
      "cell_type": "markdown",
      "metadata": {
        "id": "JW4GpXqxqvXJ"
      },
      "source": [
        "# Lets look at a random sampel from each of our sound classes:"
      ]
    },
    {
      "cell_type": "code",
      "metadata": {
        "id": "fcd2eVW2nH1A",
        "colab": {
          "base_uri": "https://localhost:8080/",
          "height": 186
        },
        "outputId": "10b45c43-b376-4879-b7b4-771de37b8ab8"
      },
      "source": [
        "\n",
        "\n",
        "################# different samples of sounds from each data set #####################################\n",
        "# sampling rate is the samples per second\n",
        "with soundfile.SoundFile('/content/DroneAudioDataset/Multiclass_Drone_Audio/bebop_1/bebop_ (1).wav') as audio:\n",
        "    waveform = audio.read(dtype=\"float32\") # ready the audio file as a floats\n",
        "    sample_rate = audio.samplerate # every audio file comes with a given sample rate, but I could also specify a value\n",
        "    plt.figure(figsize=(15,4))\n",
        "    plt.subplot(2, 3, 1)\n",
        "    librosa.display.waveplot(waveform, sr=sample_rate) # displays the specific wave file\n",
        "    plt.title('bepop_1')\n",
        "    plt.ylabel(\"Amplitude\")\n",
        "    print(\"Bebop sample rate   : \", sample_rate)\n",
        "    #print(waveform)\n",
        "\n",
        "with soundfile.SoundFile('/content/DroneAudioDataset/Multiclass_Drone_Audio/membo_1/membo_ (1).wav') as audio:\n",
        "    waveform = audio.read(dtype=\"float32\")\n",
        "    sample_rate = audio.samplerate \n",
        "    plt.subplot(2, 3, 2)\n",
        "    librosa.display.waveplot(waveform, sr=sample_rate)\n",
        "    plt.title('membo_1')\n",
        "    print(\"Membo sample rate   : \", sample_rate)\n",
        "\n",
        "with soundfile.SoundFile('/content/DroneAudioDataset/Multiclass_Drone_Audio/unknown/unknown_ (100).wav') as audio:\n",
        "    waveform = audio.read(dtype=\"float32\")\n",
        "    sample_rate = audio.samplerate\n",
        "    plt.subplot(2, 3, 3)\n",
        "    librosa.display.waveplot(waveform, sr=sample_rate)\n",
        "    plt.title('uknown')\n",
        "    print(\"Unknown sample rate : \", sample_rate)\n",
        "\n",
        "\n"
      ],
      "execution_count": 98,
      "outputs": [
        {
          "output_type": "stream",
          "name": "stdout",
          "text": [
            "Bebop sample rate   :  16000\n",
            "Membo sample rate   :  16000\n",
            "Unknown sample rate :  16000\n"
          ]
        },
        {
          "output_type": "display_data",
          "data": {
            "image/png": "[encoded data removed]",
            "text/plain": [
              "<Figure size 1080x288 with 3 Axes>"
            ]
          },
          "metadata": {
            "needs_background": "light"
          }
        }
      ]
    },
    {
      "cell_type": "markdown",
      "metadata": {
        "id": "nqonXsxftjFN"
      },
      "source": [
        "We can see from these different samples that there are some differences but I would like to create more features that an A.N.N could train on. Hence from here on I will create features that will be used to train our final model"
      ]
    },
    {
      "cell_type": "markdown",
      "source": [
        "# Fast Fourier Transform \n",
        "\n",
        "\n",
        "The below plots are symmetrical at half of the sample rate(This is a property of the Fourier transform). But the information needed can be achieved by viewing the first half of the total samples. The code below has been modiefied to just look at the first half of the sample rate. \n",
        "\n",
        "note:  The FFt  will help us  visualize amplitude values"
      ],
      "metadata": {
        "id": "P_qGo5Y1zWE8"
      }
    },
    {
      "cell_type": "code",
      "source": [
        "with soundfile.SoundFile('/content/DroneAudioDataset/Multiclass_Drone_Audio/bebop_1/bebop_ (1).wav') as audio:\n",
        "  waveform = audio.read(dtype=\"float32\")\n",
        "  sample_rate = audio.samplerate \n",
        "  plt.figure(figsize=(15,4))\n",
        "  plt.subplot(2, 3, 1)\n",
        "  fft = np.fft.fft(waveform) # gives me a numpy array that has as many values as the total number of samples I have in the wave form. But we want to find the magnitude of these values\n",
        "  magnitude = np.abs(fft) \n",
        "  frequency = np.linspace(0,sample_rate, len(magnitude)) # The frequency interval we are considering, \n",
        "  # both of the vectors made above are telling us how much each frequency is contributing to the overall sound\n",
        "  left_frequency = frequency[:int(len(frequency)/2)] # grabs the  frequncy up to half of the samples\n",
        "  left_magnitude = magnitude[:int(len(frequency)/2)] # grabs the magnitude up to half of the samples\n",
        "  plt.xlabel(\"Frequency\")\n",
        "  plt.ylabel(\"Magnitude\")\n",
        "  plt.title('Bebop FFT')\n",
        "  plt.plot(left_frequency,left_magnitude)\n",
        "\n",
        "with soundfile.SoundFile('/content/DroneAudioDataset/Multiclass_Drone_Audio/membo_1/membo_ (1).wav') as audio:\n",
        "  waveform = audio.read(dtype=\"float32\")\n",
        "  sample_rate = audio.samplerate \n",
        "  plt.figure(figsize=(15,4))\n",
        "  plt.subplot(2, 3, 2)\n",
        "  fft = np.fft.fft(waveform) # gives me a numpy array that has as many values as the total number of samples I have in the wave form. But we want to find the magnitude of these values\n",
        "  magnitude= np.abs(fft) \n",
        "  frequency = np.linspace(0,sample_rate, len(magnitude)) # The frequency interval we are considering\n",
        "  # both of the vectors made above are telling us how much each frequency is contributing to the overall sound\n",
        "  left_frequency = frequency[:int(len(frequency)/2)] # grabs the  frequncy up to half of the samples\n",
        "  left_magnitude = magnitude[:int(len(frequency)/2)] # grabs the magnitude up to half of the samples\n",
        "  plt.title('Membo FFT')\n",
        "  plt.xlabel(\"Frequency\")\n",
        "  plt.ylabel(\"Magnitude\")\n",
        "  plt.plot(left_frequency,left_magnitude)\n",
        "\n",
        "with soundfile.SoundFile('/content/DroneAudioDataset/Multiclass_Drone_Audio/unknown/unknown_ (100).wav') as audio:\n",
        "  waveform = audio.read(dtype=\"float32\")\n",
        "  sample_rate = audio.samplerate\n",
        "  plt.figure(figsize=(15,4))\n",
        "  plt.subplot(2, 3, 3)\n",
        "  fft = np.fft.fft(waveform) # gives me a numpy array that has as many values as the total number of samples I have in the wave form. But we want to find the magnitude of these values\n",
        "  magnitude = np.abs(fft) \n",
        "  frequency = np.linspace(0,sample_rate, len(magnitude)) # The frequency interval we are considering\n",
        "  # both of the vectors made above are telling us how much each frequency is contributing to the overall sound\n",
        "  left_frequency = frequency[:int(len(frequency)/2)] # grabs the  frequncy up to half of the samples\n",
        "  left_magnitude = magnitude[:int(len(frequency)/2)] # grabs the magnitude up to half of the samples\n",
        "  plt.title('Unknown FFT')\n",
        "  plt.xlabel(\"Frequency\")\n",
        "  plt.ylabel(\"Magnitude\")\n",
        "  plt.plot(left_frequency,left_magnitude)\n"
      ],
      "metadata": {
        "id": "SA2kR2Rtzb6Q",
        "outputId": "82dd60a0-6ae8-4d7b-a3e1-3869fc46c5be",
        "colab": {
          "base_uri": "https://localhost:8080/",
          "height": 497
        }
      },
      "execution_count": 99,
      "outputs": [
        {
          "output_type": "display_data",
          "data": {
            "image/png": "[encoded data removed]",
            "text/plain": [
              "<Figure size 1080x288 with 1 Axes>"
            ]
          },
          "metadata": {
            "needs_background": "light"
          }
        },
        {
          "output_type": "display_data",
          "data": {
            "image/png": "[encoded data removed]",
            "text/plain": [
              "<Figure size 1080x288 with 1 Axes>"
            ]
          },
          "metadata": {
            "needs_background": "light"
          }
        },
        {
          "output_type": "display_data",
          "data": {
            "image/png": "[encoded data removed]",
            "text/plain": [
              "<Figure size 1080x288 with 1 Axes>"
            ]
          },
          "metadata": {
            "needs_background": "light"
          }
        }
      ]
    },
    {
      "cell_type": "markdown",
      "source": [
        "As you can see most of the energey is concentrated in the lower frequencies. \n",
        "\n",
        "Important: The only problem with the FFt visualization is that it is a static snapshot of the whole sound. But what we want to do is to understand how these frequencies are contributing to the overall sound throughout time. In order to do this we will create an STFT."
      ],
      "metadata": {
        "id": "o-CmlT0U9uGn"
      }
    },
    {
      "cell_type": "markdown",
      "metadata": {
        "id": "FhgoD5qZq1EH"
      },
      "source": [
        "# Short-Time Fourier Transform"
      ]
    },
    {
      "cell_type": "markdown",
      "source": [
        "Fourtier Transforms allow us to understand complex sounds and understand how different frequences are contributing to our sound waves\n",
        "\n",
        "What does STFT do? :     \n",
        "\n",
        "\n",
        "\n",
        "*   Computes Several FTT at different intervals\n",
        "*   Preserves \"time\" (x-axis) information\n",
        "*   Gives a spectrogramt(time + frequency + magnitute)\n",
        "*   Fixed frame size(# of samples, ex: 2048 samples)\n",
        "\n",
        "This helps to give us information about the magnitude of the sound wave as a function of frequency and time. \n",
        "\n",
        "\n",
        "\n",
        "So the STFT takes us from the first visualizations shown above where we are just looking at the magnitude of the wave at a given time based on the sample rate to --> calculating how many \"Hz\" is present in the sound at a given time. "
      ],
      "metadata": {
        "id": "R4D9NNbjoQoh"
      }
    },
    {
      "cell_type": "code",
      "metadata": {
        "id": "FLYQai9Sn6k5"
      },
      "source": [
        "with soundfile.SoundFile('/content/DroneAudioDataset/Multiclass_Drone_Audio/bebop_1/bebop_ (1).wav') as audio:\n",
        "    bebop_1_waveform = audio.read(dtype=\"float32\")\n",
        "    sample_rate = audio.samplerate\n",
        "\n",
        "with soundfile.SoundFile('/content/DroneAudioDataset/Multiclass_Drone_Audio/membo_1/membo_ (1).wav') as audio:\n",
        "    membo_1_waveform = audio.read(dtype=\"float32\")\n",
        "    sample_rate = audio.samplerate\n",
        "\n",
        "\n",
        "with soundfile.SoundFile('/content/DroneAudioDataset/Multiclass_Drone_Audio/unknown/unknown_ (100).wav') as audio:\n",
        "    Unknown_waveform = audio.read(dtype=\"float32\")\n",
        "    sample_rate = audio.samplerate"
      ],
      "execution_count": 100,
      "outputs": []
    },
    {
      "cell_type": "code",
      "metadata": {
        "id": "9sS_TYAfsNR3",
        "colab": {
          "base_uri": "https://localhost:8080/",
          "height": 829
        },
        "outputId": "6850aba6-4316-46f1-e0da-0f8fb50c688b"
      },
      "source": [
        "# Visualize the combination of power spectrograms output by STFT w.r.t time\n",
        "\n",
        "stft_spectrum_matrix = librosa.stft(bebop_1_waveform)\n",
        "plt.figure(figsize=(10, 4))\n",
        "librosa.display.specshow(librosa.amplitude_to_db(np.abs(stft_spectrum_matrix), ref=np.max),y_axis='log', x_axis='time')\n",
        "plt.title('bebop_1 STFT Power spectrogram')\n",
        "plt.colorbar(format='%+2.0f dB')\n",
        "plt.tight_layout()\n",
        "\n",
        "stft_spectrum_matrix = librosa.stft(membo_1_waveform)\n",
        "plt.figure(figsize=(10, 4))\n",
        "librosa.display.specshow(librosa.amplitude_to_db(np.abs(stft_spectrum_matrix), ref=np.max),y_axis='log', x_axis='time')\n",
        "plt.title('membo_1 STFT Power spectrogram')\n",
        "plt.colorbar(format='%+2.0f dB')\n",
        "plt.tight_layout()\n",
        "\n",
        "stft_spectrum_matrix = librosa.stft(Unknown_waveform)\n",
        "plt.figure(figsize=(10, 4))\n",
        "librosa.display.specshow(librosa.amplitude_to_db(np.abs(stft_spectrum_matrix), ref=np.max),y_axis='log', x_axis='time')\n",
        "plt.title('Uknown STFT Power spectrogram')\n",
        "plt.colorbar(format='%+2.0f dB')\n",
        "plt.tight_layout()"
      ],
      "execution_count": 101,
      "outputs": [
        {
          "output_type": "display_data",
          "data": {
            "image/png": "[encoded data removed]",
            "text/plain": [
              "<Figure size 720x288 with 2 Axes>"
            ]
          },
          "metadata": {
            "needs_background": "light"
          }
        },
        {
          "output_type": "display_data",
          "data": {
            "image/png": "[encoded data removed]",
            "text/plain": [
              "<Figure size 720x288 with 2 Axes>"
            ]
          },
          "metadata": {
            "needs_background": "light"
          }
        },
        {
          "output_type": "display_data",
          "data": {
            "image/png": "[encoded data removed]",
            "text/plain": [
              "<Figure size 720x288 with 2 Axes>"
            ]
          },
          "metadata": {
            "needs_background": "light"
          }
        }
      ]
    },
    {
      "cell_type": "markdown",
      "source": [
        "Note: for the visualizations above, the color is helping us find how much a given \"Hz\" is present in the sound at a given time. "
      ],
      "metadata": {
        "id": "sGD_70OlquJh"
      }
    },
    {
      "cell_type": "markdown",
      "metadata": {
        "id": "t0XJCp69sxPo"
      },
      "source": [
        "Note: I am operating under the assumption that features whose interclass differences we can visualize will be good candidates on which to train a neural network"
      ]
    },
    {
      "cell_type": "markdown",
      "metadata": {
        "id": "brFiogwhtAsn"
      },
      "source": [
        "# Mel-Frequency Cepstral Coefficients(MFCC's)\n",
        "\n",
        "##### We're going to build on the STFT by using the Mel Frequency Cepstral Coefficients (MFCCs) as a feature. In brief, MFCC is a mathematical method which transforms the power spectrum of an audio signal to a small number of coefficients representing power of the audio signal in a frequency region (a region of pitch) taken w.r.t. time.\n",
        "\n",
        "In other words, MFC coefficients give us an idea of the changing pitch of an audio signal.\n",
        "\n"
      ]
    },
    {
      "cell_type": "markdown",
      "source": [
        "# MFCC's\n",
        "\n",
        "Basics of what MFCC does:\n",
        "\n",
        "\n",
        "*   Capture timbral/textural aspects of sound\n",
        "*   Frequency domain feature\n",
        "* Approximate the human auditory system: meaning the mel spectrograms try to model the way we(humans) percieve frequency\n",
        "*   13 to 40 coefficients at each frame\n",
        "*   calculated at each frame \n",
        "\n"
      ],
      "metadata": {
        "id": "4yw6TCUPunpx"
      }
    },
    {
      "cell_type": "code",
      "metadata": {
        "id": "zV1k73QfsXzv",
        "colab": {
          "base_uri": "https://localhost:8080/",
          "height": 849
        },
        "outputId": "8e69dd24-8054-4fc0-caab-31a235c9df24"
      },
      "source": [
        "## visualize our samples MFC coefficients w.r.t time\n",
        "\n",
        "from matplotlib.colors import Normalize\n",
        "mfc_coefficients = librosa.feature.mfcc(y=bebop_1_waveform, sr=sample_rate, n_mfcc=40) # we are using 40 mfc coefficients.\n",
        "plt.figure(figsize=(10, 4))\n",
        "librosa.display.specshow(mfc_coefficients, x_axis='time',norm=Normalize(vmin=-30,vmax=30))\n",
        "plt.colorbar()\n",
        "plt.yticks(())\n",
        "plt.ylabel('MFC Coefficient')\n",
        "plt.title('bebop_1 MFC Coefficients')\n",
        "plt.tight_layout()\n",
        "                                        \n",
        "mfc_coefficients = librosa.feature.mfcc(y=membo_1_waveform, sr=sample_rate, n_mfcc=40)\n",
        "plt.figure(figsize=(10, 4))\n",
        "librosa.display.specshow(mfc_coefficients, x_axis='time',norm=Normalize(vmin=-30,vmax=30))\n",
        "plt.colorbar()\n",
        "plt.yticks(())\n",
        "plt.ylabel('MFC Coefficient')\n",
        "plt.title('membo_1 MFC Coefficients')\n",
        "plt.tight_layout()\n",
        "\n",
        "mfc_coefficients = librosa.feature.mfcc(y=Unknown_waveform, sr=sample_rate, n_mfcc=40)\n",
        "plt.figure(figsize=(10, 4))\n",
        "librosa.display.specshow(mfc_coefficients, x_axis='time',norm=Normalize(vmin=-30,vmax=30))\n",
        "plt.colorbar()\n",
        "plt.yticks(())\n",
        "plt.ylabel('MFC Coefficient')\n",
        "plt.title('Uknown MFC Coefficients')\n",
        "plt.tight_layout()"
      ],
      "execution_count": 102,
      "outputs": [
        {
          "output_type": "display_data",
          "data": {
            "image/png": "[encoded data removed]",
            "text/plain": [
              "<Figure size 720x288 with 2 Axes>"
            ]
          },
          "metadata": {
            "needs_background": "light"
          }
        },
        {
          "output_type": "display_data",
          "data": {
            "image/png": "[encoded data removed]",
            "text/plain": [
              "<Figure size 720x288 with 2 Axes>"
            ]
          },
          "metadata": {
            "needs_background": "light"
          }
        },
        {
          "output_type": "display_data",
          "data": {
            "image/png": "[encoded data removed]",
            "text/plain": [
              "<Figure size 720x288 with 2 Axes>"
            ]
          },
          "metadata": {
            "needs_background": "light"
          }
        }
      ]
    },
    {
      "cell_type": "markdown",
      "source": [
        "These visualizations have the MFC coefficients on the Y-axis. The value of the coefficents is represented by the color. The more red the higher the MFC coefficient. "
      ],
      "metadata": {
        "id": "2754rYMdvcIS"
      }
    },
    {
      "cell_type": "markdown",
      "metadata": {
        "id": "YGaK6sAZvh3c"
      },
      "source": [
        "\n",
        "\n",
        "**Positive MFCCs correspond to low-frequency regions of the cepstrum, and negative MFFCs to high-frequency.**\n",
        "\n",
        "**In these samples we can see that the membo and bebop class both are correlated with higher MFFC proportion**"
      ]
    },
    {
      "cell_type": "markdown",
      "metadata": {
        "id": "D_7trMALwfPG"
      },
      "source": [
        "# Mel Spectrograms and Mel-Frequency Cepstrums\n",
        "\n",
        "#### Mel Spectrograms and Mel-Frequency Cepstrums\n",
        "\n",
        "#### In deriving our MFCCs, we have also produced an additional feature we can make use of. When we mapped the frequencies of a power spectrogram to the mel scale, we produced a Mel Frequency Spectrogram - a simple analog of the power spectrogram with the frequency scale in mels. We're going to use the Mel Specotrgrogram as a feature of its own.\n",
        "\n",
        "Visualize our sample's Mel spectrogram w.r.t time:"
      ]
    },
    {
      "cell_type": "code",
      "metadata": {
        "id": "DyFGLmiauwcS",
        "colab": {
          "base_uri": "https://localhost:8080/",
          "height": 807
        },
        "outputId": "1743f31c-7d85-4dfd-8225-82ac2b9d27a2"
      },
      "source": [
        "melspectrogram = librosa.feature.melspectrogram(y=bebop_1_waveform, sr=sample_rate, n_mels=128, fmax=8000)\n",
        "plt.figure(figsize=(10, 4))\n",
        "librosa.display.specshow(librosa.power_to_db(S=melspectrogram, ref=np.mean),y_axis='mel',fmax=8000, x_axis='time', norm=Normalize(vmin=-20,vmax=20))\n",
        "plt.colorbar(format='%+2.0f dB',label='Amplitude')\n",
        "plt.ylabel('Mels')\n",
        "plt.title('bebop_1 Mel spectrogram')\n",
        "plt.tight_layout()\n",
        "\n",
        "melspectrogram = librosa.feature.melspectrogram(y=membo_1_waveform, sr=sample_rate, n_mels=128, fmax=8000)\n",
        "plt.figure(figsize=(10, 4))\n",
        "librosa.display.specshow(librosa.power_to_db(S=melspectrogram, ref=np.mean),y_axis='mel',fmax=8000, x_axis='time', norm=Normalize(vmin=-20,vmax=20))\n",
        "plt.colorbar(format='%+2.0f dB',label='Amplitude')\n",
        "plt.ylabel('Mels')\n",
        "plt.title('membo_1 Mel spectrogram')\n",
        "plt.tight_layout()\n",
        "\n",
        "melspectrogram = librosa.feature.melspectrogram(y=Unknown_waveform, sr=sample_rate, n_mels=128, fmax=8000)\n",
        "plt.figure(figsize=(10, 4))\n",
        "librosa.display.specshow(librosa.power_to_db(S=melspectrogram, ref=np.mean),y_axis='mel',fmax=8000, x_axis='time', norm=Normalize(vmin=-20,vmax=20))\n",
        "plt.colorbar(format='%+2.0f dB',label='Amplitude')\n",
        "plt.ylabel('Mels')\n",
        "plt.title('Unknown Mel spectrogram')\n",
        "plt.tight_layout()"
      ],
      "execution_count": 103,
      "outputs": [
        {
          "output_type": "display_data",
          "data": {
            "image/png": "[encoded data removed]",
            "text/plain": [
              "<Figure size 720x288 with 2 Axes>"
            ]
          },
          "metadata": {
            "needs_background": "light"
          }
        },
        {
          "output_type": "display_data",
          "data": {
            "image/png": "[encoded data removed]",
            "text/plain": [
              "<Figure size 720x288 with 2 Axes>"
            ]
          },
          "metadata": {
            "needs_background": "light"
          }
        },
        {
          "output_type": "display_data",
          "data": {
            "image/png": "[encoded data removed]",
            "text/plain": [
              "<Figure size 720x288 with 2 Axes>"
            ]
          },
          "metadata": {
            "needs_background": "light"
          }
        }
      ]
    },
    {
      "cell_type": "markdown",
      "metadata": {
        "id": "nFN8uwZ0xXlv"
      },
      "source": [
        "**From these visualizations we see the different classes pitch transitions. This seems like it may be a useful feature in training a model** (Get Chiltons help for interpretation)"
      ]
    },
    {
      "cell_type": "markdown",
      "metadata": {
        "id": "haQfkmYIyUoE"
      },
      "source": [
        "# The Chromagram\n",
        "\n",
        "#### To extract an additional feature, we're going to build a chromagram on each power spectrogram computed by STFT. A chromagram is a representation of an audio signal w.r.t. time, mapping audio signal to a pitch class. Most often, we map to the 12 standard pitch classes (i.e. the musical scale CDEFGAB + 5 semitones gives us 12 pitch classes). Again, wikipedia has a short and sweet explanation. \n",
        "\n",
        "Visualize the Chromogram four our sample audio:"
      ]
    },
    {
      "cell_type": "code",
      "metadata": {
        "id": "Z29mwoamxBNv",
        "colab": {
          "base_uri": "https://localhost:8080/",
          "height": 835
        },
        "outputId": "5f44bddf-6f04-45cd-b887-7724d4befeeb"
      },
      "source": [
        "chromagram = librosa.feature.chroma_stft(y=bebop_1_waveform, sr=sample_rate)\n",
        "plt.figure(figsize=(10, 4))\n",
        "librosa.display.specshow(chromagram, y_axis='chroma', x_axis='time')\n",
        "plt.colorbar(label='Relative Intensity')\n",
        "plt.title('bebop_1 Chromagram')\n",
        "plt.tight_layout()\n",
        "\n",
        "chromagram = librosa.feature.chroma_stft(y=membo_1_waveform, sr=sample_rate)\n",
        "plt.figure(figsize=(10, 4))\n",
        "librosa.display.specshow(chromagram, y_axis='chroma', x_axis='time')\n",
        "plt.colorbar(label='Relative Intensity')\n",
        "plt.title('membmo_1 Chromagram')\n",
        "plt.tight_layout()\n",
        "\n",
        "chromagram = librosa.feature.chroma_stft(y=Unknown_waveform, sr=sample_rate)\n",
        "plt.figure(figsize=(10, 4))\n",
        "librosa.display.specshow(chromagram, y_axis='chroma', x_axis='time')\n",
        "plt.colorbar(label='Relative Intensity')\n",
        "plt.title('Unknown Chromagram')\n",
        "plt.tight_layout()"
      ],
      "execution_count": 104,
      "outputs": [
        {
          "output_type": "display_data",
          "data": {
            "image/png": "[encoded data removed]",
            "text/plain": [
              "<Figure size 720x288 with 2 Axes>"
            ]
          },
          "metadata": {
            "needs_background": "light"
          }
        },
        {
          "output_type": "display_data",
          "data": {
            "image/png": "[encoded data removed]",
            "text/plain": [
              "<Figure size 720x288 with 2 Axes>"
            ]
          },
          "metadata": {
            "needs_background": "light"
          }
        },
        {
          "output_type": "display_data",
          "data": {
            "image/png": "[encoded data removed]",
            "text/plain": [
              "<Figure size 720x288 with 2 Axes>"
            ]
          },
          "metadata": {
            "needs_background": "light"
          }
        }
      ]
    },
    {
      "cell_type": "markdown",
      "metadata": {
        "id": "G3TpiKKNy_wp"
      },
      "source": [
        "**Here we can look at the different dispersion rates of our sample from the classes, there are some interesting patterns** (get chiltons help for more interpretation)"
      ]
    },
    {
      "cell_type": "markdown",
      "metadata": {
        "id": "pK_wseLSzZWc"
      },
      "source": [
        "# Feature Extraction\n",
        "\n",
        "We're going to take full advantage of librosa, a Python library enabling audio analysis and feature extraction. Librosa abstracts away all the math and most of the details of mel spectrorgams, chromagrams, and MFCC. Although closely related, we're going to take the Mel Spectrogram, MFCC, and chromagrams of each audio file as separate features to try and have bit more discriminatory power between samples.\n",
        "\n",
        "Let's build our feature extraction functions to get a chromagram, a mel spectorgram, and MFC coefficients for each of our audio files. Because the chromagram, mel spectrogram and MFCCs are calculated on audio frames produced by STFT, we're going to get a matrix back from each function, so we'll take the mean of those matrices to produce a single feature array for each feature and each audio sample, i.e. 3 feature arrays per audio sample.\n",
        "\n",
        "**Chromagram**: Will produce 12 features; One for each of 12 pitch classes\n",
        "\n",
        "**Mel Spectrogram**: Will produce 128 features; We've defined the number of mel frequency bands at n_mels=128\n",
        "\n",
        "**MFCC:** Will produce 40 MFCCs; I've set the number of coefficients to return at n_mfcc=40 which I found to work well\n"
      ]
    },
    {
      "cell_type": "code",
      "metadata": {
        "id": "ko1r-rNpyxVG"
      },
      "source": [
        "import librosa\n",
        "\n",
        "def feature_chromagram(waveform, sample_rate):\n",
        "    # STFT computed here explicitly; mel spectrogram and MFCC functions do this under the hood\n",
        "    stft_spectrogram=np.abs(librosa.stft(waveform))\n",
        "    # Produce the chromagram for all STFT frames and get the mean of each column of the resulting matrix to create a feature array\n",
        "    chromagram=np.mean(librosa.feature.chroma_stft(S=stft_spectrogram, sr=sample_rate).T,axis=0)\n",
        "    return chromagram\n",
        "\n",
        "def feature_melspectrogram(waveform, sample_rate):\n",
        "    # Produce the mel spectrogram for all STFT frames and get the mean of each column of the resulting matrix to create a feature array\n",
        "    # Using 8khz as upper frequency bound should be enough for most speech classification tasks\n",
        "    melspectrogram=np.mean(librosa.feature.melspectrogram(y=waveform, sr=sample_rate, n_mels=128, fmax=8000).T,axis=0)\n",
        "    return melspectrogram\n",
        "\n",
        "def feature_mfcc(waveform, sample_rate):\n",
        "    # Compute the MFCCs for all STFT frames and get the mean of each column of the resulting matrix to create a feature array\n",
        "    # 40 filterbanks = 40 coefficients\n",
        "    mfc_coefficients=np.mean(librosa.feature.mfcc(y=waveform, sr=sample_rate, n_mfcc=40).T, axis=0) \n",
        "    return mfc_coefficients"
      ],
      "execution_count": 105,
      "outputs": []
    },
    {
      "cell_type": "markdown",
      "metadata": {
        "id": "uTk3gfhEzvVs"
      },
      "source": [
        "We're going to wrap our feature extraction functions so we only have to load each audio file once. After extracting our 3 audio features as NumPy arrays representing a time series, we're going to stack them horizontally to create a single feature array."
      ]
    },
    {
      "cell_type": "code",
      "metadata": {
        "id": "LUWHrJbxzv-s"
      },
      "source": [
        "def get_features(file):\n",
        "    # load an individual soundfile\n",
        "     with soundfile.SoundFile(file) as audio:\n",
        "        waveform = audio.read(dtype=\"float32\")\n",
        "        sample_rate = audio.samplerate\n",
        "        # compute features of soundfile\n",
        "        chromagram = feature_chromagram(waveform, sample_rate)\n",
        "        melspectrogram = feature_melspectrogram(waveform, sample_rate)\n",
        "        mfc_coefficients = feature_mfcc(waveform, sample_rate)\n",
        "\n",
        "        feature_matrix=np.array([])\n",
        "        # use np.hstack to stack our feature arrays horizontally to create a feature matrix\n",
        "        feature_matrix = np.hstack((chromagram, melspectrogram, mfc_coefficients))\n",
        "        \n",
        "        return feature_matrix"
      ],
      "execution_count": 106,
      "outputs": []
    },
    {
      "cell_type": "code",
      "metadata": {
        "id": "qvTW25blz3ZP"
      },
      "source": [
        "#Emotions in the RAVDESS dataset\n",
        "\n",
        "classes ={\n",
        "  'bebop':'bebop_1',\n",
        "  'membo':'membo_1',\n",
        "  'unknown':'unknown',\n",
        "}"
      ],
      "execution_count": 107,
      "outputs": []
    },
    {
      "cell_type": "markdown",
      "metadata": {
        "id": "3oZZFdcw0Nus"
      },
      "source": [
        "Load our data set (Need lots of help)"
      ]
    },
    {
      "cell_type": "code",
      "metadata": {
        "id": "cYO_zCMV0O3A"
      },
      "source": [
        "import os, glob\n",
        "## my filepath examples\n",
        "\n",
        "\n",
        "def load_data():\n",
        "    X,y=[],[]\n",
        "    count = 0\n",
        "    for file in glob.glob(\"/content/DroneAudioDataset/Multiclass_Drone_Audio//*//*.wav\"):\n",
        "        file_name=os.path.basename(file)\n",
        "        clas=classes[file_name.split(\"_\")[0]]\n",
        "        features = get_features(file)\n",
        "        X.append(features)\n",
        "        y.append(clas)\n",
        "        count += 1\n",
        "        # '\\r' + end='' results in printing over same line\n",
        "        print('\\r' + f' Processed {count}/{11704} audio samples',end=' ')\n",
        "    # Return arrays to plug into sklearn's cross-validation algorithms\n",
        "    return np.array(X), np.array(y)"
      ],
      "execution_count": 108,
      "outputs": []
    },
    {
      "cell_type": "code",
      "metadata": {
        "id": "fxnN2RZG0cW-",
        "colab": {
          "base_uri": "https://localhost:8080/"
        },
        "outputId": "1bf0a663-fc78-49a0-8ed9-d9d868c464de"
      },
      "source": [
        "features, classes = load_data()"
      ],
      "execution_count": 109,
      "outputs": [
        {
          "output_type": "stream",
          "name": "stdout",
          "text": [
            " Processed 11704/11704 audio samples "
          ]
        }
      ]
    },
    {
      "cell_type": "code",
      "metadata": {
        "id": "4Hk1mzNs0qD3",
        "colab": {
          "base_uri": "https://localhost:8080/",
          "height": 542
        },
        "outputId": "de15fe68-3fdb-4af2-feb7-a76e3d09bce1"
      },
      "source": [
        "print(f'\\nAudio samples represented: {features.shape[0]}')\n",
        "print(f'Numerical features extracted per sample: {features.shape[1]}')\n",
        "features_df = pd.DataFrame(features) # make it pretty for display\n",
        "features_df"
      ],
      "execution_count": 110,
      "outputs": [
        {
          "output_type": "stream",
          "name": "stdout",
          "text": [
            "\n",
            "Audio samples represented: 11704\n",
            "Numerical features extracted per sample: 180\n"
          ]
        },
        {
          "output_type": "execute_result",
          "data": {
            "text/html": [
              "\n",
              "  <div id=\"df-22ec304d-404d-470e-b21e-ebfe4e85a5a7\">\n",
              "    <div class=\"colab-df-container\">\n",
              "      <div>\n",
              "<style scoped>\n",
              "    .dataframe tbody tr th:only-of-type {\n",
              "        vertical-align: middle;\n",
              "    }\n",
              "\n",
              "    .dataframe tbody tr th {\n",
              "        vertical-align: top;\n",
              "    }\n",
              "\n",
              "    .dataframe thead th {\n",
              "        text-align: right;\n",
              "    }\n",
              "</style>\n",
              "<table border=\"1\" class=\"dataframe\">\n",
              "  <thead>\n",
              "    <tr style=\"text-align: right;\">\n",
              "      <th></th>\n",
              "      <th>0</th>\n",
              "      <th>1</th>\n",
              "      <th>2</th>\n",
              "      <th>3</th>\n",
              "      <th>4</th>\n",
              "      <th>5</th>\n",
              "      <th>6</th>\n",
              "      <th>7</th>\n",
              "      <th>8</th>\n",
              "      <th>9</th>\n",
              "      <th>10</th>\n",
              "      <th>11</th>\n",
              "      <th>12</th>\n",
              "      <th>13</th>\n",
              "      <th>14</th>\n",
              "      <th>15</th>\n",
              "      <th>16</th>\n",
              "      <th>17</th>\n",
              "      <th>18</th>\n",
              "      <th>19</th>\n",
              "      <th>20</th>\n",
              "      <th>21</th>\n",
              "      <th>22</th>\n",
              "      <th>23</th>\n",
              "      <th>24</th>\n",
              "      <th>25</th>\n",
              "      <th>26</th>\n",
              "      <th>27</th>\n",
              "      <th>28</th>\n",
              "      <th>29</th>\n",
              "      <th>30</th>\n",
              "      <th>31</th>\n",
              "      <th>32</th>\n",
              "      <th>33</th>\n",
              "      <th>34</th>\n",
              "      <th>35</th>\n",
              "      <th>36</th>\n",
              "      <th>37</th>\n",
              "      <th>38</th>\n",
              "      <th>39</th>\n",
              "      <th>...</th>\n",
              "      <th>140</th>\n",
              "      <th>141</th>\n",
              "      <th>142</th>\n",
              "      <th>143</th>\n",
              "      <th>144</th>\n",
              "      <th>145</th>\n",
              "      <th>146</th>\n",
              "      <th>147</th>\n",
              "      <th>148</th>\n",
              "      <th>149</th>\n",
              "      <th>150</th>\n",
              "      <th>151</th>\n",
              "      <th>152</th>\n",
              "      <th>153</th>\n",
              "      <th>154</th>\n",
              "      <th>155</th>\n",
              "      <th>156</th>\n",
              "      <th>157</th>\n",
              "      <th>158</th>\n",
              "      <th>159</th>\n",
              "      <th>160</th>\n",
              "      <th>161</th>\n",
              "      <th>162</th>\n",
              "      <th>163</th>\n",
              "      <th>164</th>\n",
              "      <th>165</th>\n",
              "      <th>166</th>\n",
              "      <th>167</th>\n",
              "      <th>168</th>\n",
              "      <th>169</th>\n",
              "      <th>170</th>\n",
              "      <th>171</th>\n",
              "      <th>172</th>\n",
              "      <th>173</th>\n",
              "      <th>174</th>\n",
              "      <th>175</th>\n",
              "      <th>176</th>\n",
              "      <th>177</th>\n",
              "      <th>178</th>\n",
              "      <th>179</th>\n",
              "    </tr>\n",
              "  </thead>\n",
              "  <tbody>\n",
              "    <tr>\n",
              "      <th>0</th>\n",
              "      <td>0.357157</td>\n",
              "      <td>0.381954</td>\n",
              "      <td>0.777153</td>\n",
              "      <td>0.961733</td>\n",
              "      <td>0.404549</td>\n",
              "      <td>0.363311</td>\n",
              "      <td>0.455774</td>\n",
              "      <td>0.474896</td>\n",
              "      <td>0.417596</td>\n",
              "      <td>0.666136</td>\n",
              "      <td>0.698639</td>\n",
              "      <td>0.347986</td>\n",
              "      <td>0.538643</td>\n",
              "      <td>9.881743</td>\n",
              "      <td>1.620219</td>\n",
              "      <td>0.039523</td>\n",
              "      <td>0.015298</td>\n",
              "      <td>0.004588</td>\n",
              "      <td>0.001809</td>\n",
              "      <td>0.004733</td>\n",
              "      <td>0.005795</td>\n",
              "      <td>0.001137</td>\n",
              "      <td>0.000794</td>\n",
              "      <td>0.003770</td>\n",
              "      <td>0.018339</td>\n",
              "      <td>0.006980</td>\n",
              "      <td>0.003688</td>\n",
              "      <td>0.000797</td>\n",
              "      <td>0.000834</td>\n",
              "      <td>0.000661</td>\n",
              "      <td>0.000859</td>\n",
              "      <td>0.000731</td>\n",
              "      <td>0.001459</td>\n",
              "      <td>0.000867</td>\n",
              "      <td>0.001113</td>\n",
              "      <td>0.003154</td>\n",
              "      <td>0.192077</td>\n",
              "      <td>1.328020</td>\n",
              "      <td>1.802468</td>\n",
              "      <td>0.183007</td>\n",
              "      <td>...</td>\n",
              "      <td>-249.838043</td>\n",
              "      <td>-13.420278</td>\n",
              "      <td>9.397183</td>\n",
              "      <td>18.293201</td>\n",
              "      <td>6.851133</td>\n",
              "      <td>12.350478</td>\n",
              "      <td>9.076675</td>\n",
              "      <td>12.110025</td>\n",
              "      <td>14.282014</td>\n",
              "      <td>15.108113</td>\n",
              "      <td>20.613693</td>\n",
              "      <td>19.156973</td>\n",
              "      <td>7.906979</td>\n",
              "      <td>5.028078</td>\n",
              "      <td>-0.849418</td>\n",
              "      <td>7.964943</td>\n",
              "      <td>-2.080342</td>\n",
              "      <td>-10.656654</td>\n",
              "      <td>3.000751</td>\n",
              "      <td>32.092834</td>\n",
              "      <td>39.332993</td>\n",
              "      <td>14.387056</td>\n",
              "      <td>-1.621841</td>\n",
              "      <td>-3.601516</td>\n",
              "      <td>-13.890031</td>\n",
              "      <td>-2.077117</td>\n",
              "      <td>10.579767</td>\n",
              "      <td>0.740037</td>\n",
              "      <td>-8.756074</td>\n",
              "      <td>9.879725</td>\n",
              "      <td>12.780049</td>\n",
              "      <td>3.893526</td>\n",
              "      <td>-0.635234</td>\n",
              "      <td>-10.308337</td>\n",
              "      <td>0.252702</td>\n",
              "      <td>0.405146</td>\n",
              "      <td>-13.701700</td>\n",
              "      <td>-1.262464</td>\n",
              "      <td>11.294629</td>\n",
              "      <td>11.655873</td>\n",
              "    </tr>\n",
              "    <tr>\n",
              "      <th>1</th>\n",
              "      <td>0.413490</td>\n",
              "      <td>0.467945</td>\n",
              "      <td>0.542397</td>\n",
              "      <td>0.965461</td>\n",
              "      <td>0.768735</td>\n",
              "      <td>0.492334</td>\n",
              "      <td>0.457962</td>\n",
              "      <td>0.532592</td>\n",
              "      <td>0.503383</td>\n",
              "      <td>0.495706</td>\n",
              "      <td>0.668398</td>\n",
              "      <td>0.544319</td>\n",
              "      <td>0.588784</td>\n",
              "      <td>1.239785</td>\n",
              "      <td>0.142575</td>\n",
              "      <td>0.025855</td>\n",
              "      <td>0.006769</td>\n",
              "      <td>0.004448</td>\n",
              "      <td>0.001858</td>\n",
              "      <td>0.001480</td>\n",
              "      <td>0.001577</td>\n",
              "      <td>0.000549</td>\n",
              "      <td>0.000398</td>\n",
              "      <td>0.000807</td>\n",
              "      <td>0.001983</td>\n",
              "      <td>0.000506</td>\n",
              "      <td>0.000611</td>\n",
              "      <td>0.000337</td>\n",
              "      <td>0.000617</td>\n",
              "      <td>0.000126</td>\n",
              "      <td>0.000169</td>\n",
              "      <td>0.000076</td>\n",
              "      <td>0.000095</td>\n",
              "      <td>0.000079</td>\n",
              "      <td>0.000464</td>\n",
              "      <td>0.001634</td>\n",
              "      <td>0.010172</td>\n",
              "      <td>0.036418</td>\n",
              "      <td>0.015729</td>\n",
              "      <td>0.003320</td>\n",
              "      <td>...</td>\n",
              "      <td>-413.421570</td>\n",
              "      <td>44.021729</td>\n",
              "      <td>17.005997</td>\n",
              "      <td>26.267902</td>\n",
              "      <td>11.433599</td>\n",
              "      <td>20.906698</td>\n",
              "      <td>11.098078</td>\n",
              "      <td>16.043171</td>\n",
              "      <td>9.849957</td>\n",
              "      <td>14.955240</td>\n",
              "      <td>16.058489</td>\n",
              "      <td>20.331322</td>\n",
              "      <td>6.109733</td>\n",
              "      <td>7.079880</td>\n",
              "      <td>-2.423654</td>\n",
              "      <td>6.013014</td>\n",
              "      <td>-2.474429</td>\n",
              "      <td>-3.486804</td>\n",
              "      <td>6.580000</td>\n",
              "      <td>23.115513</td>\n",
              "      <td>23.505505</td>\n",
              "      <td>10.123158</td>\n",
              "      <td>0.097976</td>\n",
              "      <td>-1.599282</td>\n",
              "      <td>-8.977671</td>\n",
              "      <td>-0.047195</td>\n",
              "      <td>0.763779</td>\n",
              "      <td>-1.246367</td>\n",
              "      <td>-4.643907</td>\n",
              "      <td>8.159119</td>\n",
              "      <td>10.723714</td>\n",
              "      <td>5.630426</td>\n",
              "      <td>1.229499</td>\n",
              "      <td>-1.812539</td>\n",
              "      <td>3.326406</td>\n",
              "      <td>1.155226</td>\n",
              "      <td>-10.685175</td>\n",
              "      <td>-1.711441</td>\n",
              "      <td>3.685992</td>\n",
              "      <td>5.664645</td>\n",
              "    </tr>\n",
              "    <tr>\n",
              "      <th>2</th>\n",
              "      <td>0.466327</td>\n",
              "      <td>0.507660</td>\n",
              "      <td>0.864222</td>\n",
              "      <td>0.937741</td>\n",
              "      <td>0.444494</td>\n",
              "      <td>0.464117</td>\n",
              "      <td>0.522763</td>\n",
              "      <td>0.580579</td>\n",
              "      <td>0.512655</td>\n",
              "      <td>0.700803</td>\n",
              "      <td>0.780847</td>\n",
              "      <td>0.431711</td>\n",
              "      <td>0.477222</td>\n",
              "      <td>0.724166</td>\n",
              "      <td>0.101029</td>\n",
              "      <td>0.036017</td>\n",
              "      <td>0.009921</td>\n",
              "      <td>0.002611</td>\n",
              "      <td>0.001419</td>\n",
              "      <td>0.002089</td>\n",
              "      <td>0.001890</td>\n",
              "      <td>0.000613</td>\n",
              "      <td>0.000458</td>\n",
              "      <td>0.000686</td>\n",
              "      <td>0.001239</td>\n",
              "      <td>0.000406</td>\n",
              "      <td>0.000647</td>\n",
              "      <td>0.000309</td>\n",
              "      <td>0.000668</td>\n",
              "      <td>0.000147</td>\n",
              "      <td>0.000242</td>\n",
              "      <td>0.000085</td>\n",
              "      <td>0.000103</td>\n",
              "      <td>0.000072</td>\n",
              "      <td>0.000444</td>\n",
              "      <td>0.000470</td>\n",
              "      <td>0.008952</td>\n",
              "      <td>0.020748</td>\n",
              "      <td>0.007700</td>\n",
              "      <td>0.000193</td>\n",
              "      <td>...</td>\n",
              "      <td>-410.059570</td>\n",
              "      <td>36.222267</td>\n",
              "      <td>18.802889</td>\n",
              "      <td>25.139065</td>\n",
              "      <td>14.989041</td>\n",
              "      <td>21.784321</td>\n",
              "      <td>10.903346</td>\n",
              "      <td>16.266935</td>\n",
              "      <td>9.080049</td>\n",
              "      <td>9.885024</td>\n",
              "      <td>13.173603</td>\n",
              "      <td>21.742338</td>\n",
              "      <td>6.689101</td>\n",
              "      <td>7.682463</td>\n",
              "      <td>-4.376895</td>\n",
              "      <td>9.934643</td>\n",
              "      <td>0.275068</td>\n",
              "      <td>-4.353186</td>\n",
              "      <td>-2.315518</td>\n",
              "      <td>18.311861</td>\n",
              "      <td>24.363935</td>\n",
              "      <td>10.665624</td>\n",
              "      <td>2.048022</td>\n",
              "      <td>-0.486354</td>\n",
              "      <td>-10.169852</td>\n",
              "      <td>-3.953877</td>\n",
              "      <td>5.322571</td>\n",
              "      <td>3.047007</td>\n",
              "      <td>-10.796054</td>\n",
              "      <td>5.345752</td>\n",
              "      <td>11.722717</td>\n",
              "      <td>7.103195</td>\n",
              "      <td>5.673565</td>\n",
              "      <td>-4.027056</td>\n",
              "      <td>-0.648670</td>\n",
              "      <td>5.387225</td>\n",
              "      <td>-10.665038</td>\n",
              "      <td>-4.888212</td>\n",
              "      <td>-0.685481</td>\n",
              "      <td>3.033950</td>\n",
              "    </tr>\n",
              "    <tr>\n",
              "      <th>3</th>\n",
              "      <td>0.478108</td>\n",
              "      <td>0.520802</td>\n",
              "      <td>0.944146</td>\n",
              "      <td>0.911745</td>\n",
              "      <td>0.813017</td>\n",
              "      <td>0.538633</td>\n",
              "      <td>0.626569</td>\n",
              "      <td>0.717611</td>\n",
              "      <td>0.670462</td>\n",
              "      <td>0.782795</td>\n",
              "      <td>0.896257</td>\n",
              "      <td>0.707602</td>\n",
              "      <td>0.590923</td>\n",
              "      <td>8.544995</td>\n",
              "      <td>1.297458</td>\n",
              "      <td>0.152112</td>\n",
              "      <td>0.054698</td>\n",
              "      <td>0.004711</td>\n",
              "      <td>0.002986</td>\n",
              "      <td>0.016702</td>\n",
              "      <td>0.019798</td>\n",
              "      <td>0.003028</td>\n",
              "      <td>0.002673</td>\n",
              "      <td>0.004620</td>\n",
              "      <td>0.011465</td>\n",
              "      <td>0.009069</td>\n",
              "      <td>0.004068</td>\n",
              "      <td>0.003301</td>\n",
              "      <td>0.003225</td>\n",
              "      <td>0.001310</td>\n",
              "      <td>0.002229</td>\n",
              "      <td>0.001511</td>\n",
              "      <td>0.001946</td>\n",
              "      <td>0.001419</td>\n",
              "      <td>0.001444</td>\n",
              "      <td>0.005242</td>\n",
              "      <td>0.416928</td>\n",
              "      <td>0.273437</td>\n",
              "      <td>0.110441</td>\n",
              "      <td>0.129878</td>\n",
              "      <td>...</td>\n",
              "      <td>-222.061401</td>\n",
              "      <td>-11.261425</td>\n",
              "      <td>7.369161</td>\n",
              "      <td>19.270573</td>\n",
              "      <td>9.907336</td>\n",
              "      <td>14.081653</td>\n",
              "      <td>12.842162</td>\n",
              "      <td>7.363144</td>\n",
              "      <td>10.400614</td>\n",
              "      <td>13.435760</td>\n",
              "      <td>22.115395</td>\n",
              "      <td>21.286945</td>\n",
              "      <td>5.784457</td>\n",
              "      <td>0.547761</td>\n",
              "      <td>-2.008626</td>\n",
              "      <td>8.662888</td>\n",
              "      <td>-2.105151</td>\n",
              "      <td>-10.007737</td>\n",
              "      <td>4.588218</td>\n",
              "      <td>29.175062</td>\n",
              "      <td>30.839222</td>\n",
              "      <td>5.901227</td>\n",
              "      <td>-2.498527</td>\n",
              "      <td>-2.743200</td>\n",
              "      <td>-12.698713</td>\n",
              "      <td>1.326679</td>\n",
              "      <td>9.468030</td>\n",
              "      <td>-2.242115</td>\n",
              "      <td>-5.184923</td>\n",
              "      <td>10.152684</td>\n",
              "      <td>8.422915</td>\n",
              "      <td>0.090863</td>\n",
              "      <td>2.016652</td>\n",
              "      <td>-1.426573</td>\n",
              "      <td>0.023687</td>\n",
              "      <td>-5.862361</td>\n",
              "      <td>-8.338717</td>\n",
              "      <td>1.420678</td>\n",
              "      <td>3.971224</td>\n",
              "      <td>2.852725</td>\n",
              "    </tr>\n",
              "    <tr>\n",
              "      <th>4</th>\n",
              "      <td>0.426595</td>\n",
              "      <td>0.736908</td>\n",
              "      <td>0.685356</td>\n",
              "      <td>0.619393</td>\n",
              "      <td>0.527011</td>\n",
              "      <td>0.693479</td>\n",
              "      <td>0.622127</td>\n",
              "      <td>0.806051</td>\n",
              "      <td>0.993661</td>\n",
              "      <td>0.689397</td>\n",
              "      <td>0.483603</td>\n",
              "      <td>0.490103</td>\n",
              "      <td>1.332582</td>\n",
              "      <td>7.189254</td>\n",
              "      <td>42.603313</td>\n",
              "      <td>3.723795</td>\n",
              "      <td>3.741871</td>\n",
              "      <td>41.068783</td>\n",
              "      <td>17.046766</td>\n",
              "      <td>38.265324</td>\n",
              "      <td>78.556847</td>\n",
              "      <td>13.795234</td>\n",
              "      <td>4.166180</td>\n",
              "      <td>8.716899</td>\n",
              "      <td>1.401302</td>\n",
              "      <td>5.860063</td>\n",
              "      <td>58.296913</td>\n",
              "      <td>16.266865</td>\n",
              "      <td>10.632592</td>\n",
              "      <td>68.371040</td>\n",
              "      <td>17.719057</td>\n",
              "      <td>0.797219</td>\n",
              "      <td>1.453008</td>\n",
              "      <td>0.819121</td>\n",
              "      <td>2.469403</td>\n",
              "      <td>28.223623</td>\n",
              "      <td>19.460503</td>\n",
              "      <td>3.262510</td>\n",
              "      <td>15.311047</td>\n",
              "      <td>6.837613</td>\n",
              "      <td>...</td>\n",
              "      <td>-107.105392</td>\n",
              "      <td>140.349030</td>\n",
              "      <td>17.597214</td>\n",
              "      <td>-0.613686</td>\n",
              "      <td>-4.748530</td>\n",
              "      <td>3.095550</td>\n",
              "      <td>1.547953</td>\n",
              "      <td>1.587333</td>\n",
              "      <td>-1.699299</td>\n",
              "      <td>-1.991425</td>\n",
              "      <td>-4.004342</td>\n",
              "      <td>-1.272993</td>\n",
              "      <td>-6.595777</td>\n",
              "      <td>-1.244948</td>\n",
              "      <td>-5.982986</td>\n",
              "      <td>2.242419</td>\n",
              "      <td>-1.252315</td>\n",
              "      <td>-3.126135</td>\n",
              "      <td>-3.000591</td>\n",
              "      <td>-0.376133</td>\n",
              "      <td>0.486440</td>\n",
              "      <td>-6.109717</td>\n",
              "      <td>-2.591145</td>\n",
              "      <td>-1.293882</td>\n",
              "      <td>-9.984450</td>\n",
              "      <td>-4.969899</td>\n",
              "      <td>-4.922917</td>\n",
              "      <td>-5.464537</td>\n",
              "      <td>-4.623724</td>\n",
              "      <td>6.623113</td>\n",
              "      <td>9.012143</td>\n",
              "      <td>11.723888</td>\n",
              "      <td>13.504802</td>\n",
              "      <td>-1.015318</td>\n",
              "      <td>-2.948573</td>\n",
              "      <td>-1.518435</td>\n",
              "      <td>-4.703286</td>\n",
              "      <td>3.481821</td>\n",
              "      <td>-1.244377</td>\n",
              "      <td>-6.615057</td>\n",
              "    </tr>\n",
              "    <tr>\n",
              "      <th>...</th>\n",
              "      <td>...</td>\n",
              "      <td>...</td>\n",
              "      <td>...</td>\n",
              "      <td>...</td>\n",
              "      <td>...</td>\n",
              "      <td>...</td>\n",
              "      <td>...</td>\n",
              "      <td>...</td>\n",
              "      <td>...</td>\n",
              "      <td>...</td>\n",
              "      <td>...</td>\n",
              "      <td>...</td>\n",
              "      <td>...</td>\n",
              "      <td>...</td>\n",
              "      <td>...</td>\n",
              "      <td>...</td>\n",
              "      <td>...</td>\n",
              "      <td>...</td>\n",
              "      <td>...</td>\n",
              "      <td>...</td>\n",
              "      <td>...</td>\n",
              "      <td>...</td>\n",
              "      <td>...</td>\n",
              "      <td>...</td>\n",
              "      <td>...</td>\n",
              "      <td>...</td>\n",
              "      <td>...</td>\n",
              "      <td>...</td>\n",
              "      <td>...</td>\n",
              "      <td>...</td>\n",
              "      <td>...</td>\n",
              "      <td>...</td>\n",
              "      <td>...</td>\n",
              "      <td>...</td>\n",
              "      <td>...</td>\n",
              "      <td>...</td>\n",
              "      <td>...</td>\n",
              "      <td>...</td>\n",
              "      <td>...</td>\n",
              "      <td>...</td>\n",
              "      <td>...</td>\n",
              "      <td>...</td>\n",
              "      <td>...</td>\n",
              "      <td>...</td>\n",
              "      <td>...</td>\n",
              "      <td>...</td>\n",
              "      <td>...</td>\n",
              "      <td>...</td>\n",
              "      <td>...</td>\n",
              "      <td>...</td>\n",
              "      <td>...</td>\n",
              "      <td>...</td>\n",
              "      <td>...</td>\n",
              "      <td>...</td>\n",
              "      <td>...</td>\n",
              "      <td>...</td>\n",
              "      <td>...</td>\n",
              "      <td>...</td>\n",
              "      <td>...</td>\n",
              "      <td>...</td>\n",
              "      <td>...</td>\n",
              "      <td>...</td>\n",
              "      <td>...</td>\n",
              "      <td>...</td>\n",
              "      <td>...</td>\n",
              "      <td>...</td>\n",
              "      <td>...</td>\n",
              "      <td>...</td>\n",
              "      <td>...</td>\n",
              "      <td>...</td>\n",
              "      <td>...</td>\n",
              "      <td>...</td>\n",
              "      <td>...</td>\n",
              "      <td>...</td>\n",
              "      <td>...</td>\n",
              "      <td>...</td>\n",
              "      <td>...</td>\n",
              "      <td>...</td>\n",
              "      <td>...</td>\n",
              "      <td>...</td>\n",
              "      <td>...</td>\n",
              "    </tr>\n",
              "    <tr>\n",
              "      <th>11699</th>\n",
              "      <td>0.570142</td>\n",
              "      <td>0.566275</td>\n",
              "      <td>0.738984</td>\n",
              "      <td>0.603748</td>\n",
              "      <td>0.584467</td>\n",
              "      <td>0.617614</td>\n",
              "      <td>0.679289</td>\n",
              "      <td>0.978665</td>\n",
              "      <td>0.769364</td>\n",
              "      <td>0.610975</td>\n",
              "      <td>0.625160</td>\n",
              "      <td>0.672736</td>\n",
              "      <td>63.740692</td>\n",
              "      <td>193.180450</td>\n",
              "      <td>131.104294</td>\n",
              "      <td>36.972023</td>\n",
              "      <td>17.290691</td>\n",
              "      <td>10.637512</td>\n",
              "      <td>7.453641</td>\n",
              "      <td>5.486710</td>\n",
              "      <td>4.211842</td>\n",
              "      <td>2.480747</td>\n",
              "      <td>1.539178</td>\n",
              "      <td>1.342975</td>\n",
              "      <td>0.614527</td>\n",
              "      <td>0.396705</td>\n",
              "      <td>0.305151</td>\n",
              "      <td>1.138644</td>\n",
              "      <td>12.819599</td>\n",
              "      <td>4.658280</td>\n",
              "      <td>0.218658</td>\n",
              "      <td>0.093468</td>\n",
              "      <td>0.111352</td>\n",
              "      <td>0.102910</td>\n",
              "      <td>0.170936</td>\n",
              "      <td>0.112825</td>\n",
              "      <td>0.069176</td>\n",
              "      <td>0.039680</td>\n",
              "      <td>0.051900</td>\n",
              "      <td>0.068980</td>\n",
              "      <td>...</td>\n",
              "      <td>-59.624790</td>\n",
              "      <td>18.353636</td>\n",
              "      <td>10.377257</td>\n",
              "      <td>43.821205</td>\n",
              "      <td>20.349474</td>\n",
              "      <td>26.571779</td>\n",
              "      <td>13.437449</td>\n",
              "      <td>13.136736</td>\n",
              "      <td>9.619050</td>\n",
              "      <td>7.938651</td>\n",
              "      <td>0.982372</td>\n",
              "      <td>2.149957</td>\n",
              "      <td>-4.430325</td>\n",
              "      <td>5.174065</td>\n",
              "      <td>3.289378</td>\n",
              "      <td>17.394112</td>\n",
              "      <td>13.095130</td>\n",
              "      <td>5.586090</td>\n",
              "      <td>-6.586010</td>\n",
              "      <td>-5.918709</td>\n",
              "      <td>3.235499</td>\n",
              "      <td>8.183320</td>\n",
              "      <td>-3.820783</td>\n",
              "      <td>-9.967773</td>\n",
              "      <td>-4.125599</td>\n",
              "      <td>10.113958</td>\n",
              "      <td>-0.991970</td>\n",
              "      <td>-5.610227</td>\n",
              "      <td>-1.289690</td>\n",
              "      <td>11.042156</td>\n",
              "      <td>4.307692</td>\n",
              "      <td>-0.233096</td>\n",
              "      <td>5.884453</td>\n",
              "      <td>4.606241</td>\n",
              "      <td>-4.655385</td>\n",
              "      <td>-0.979474</td>\n",
              "      <td>4.601773</td>\n",
              "      <td>-2.888163</td>\n",
              "      <td>-9.484922</td>\n",
              "      <td>-4.397699</td>\n",
              "    </tr>\n",
              "    <tr>\n",
              "      <th>11700</th>\n",
              "      <td>0.669952</td>\n",
              "      <td>0.644643</td>\n",
              "      <td>0.631511</td>\n",
              "      <td>0.717283</td>\n",
              "      <td>0.648905</td>\n",
              "      <td>0.604765</td>\n",
              "      <td>0.653885</td>\n",
              "      <td>0.787341</td>\n",
              "      <td>0.909378</td>\n",
              "      <td>0.788054</td>\n",
              "      <td>0.665764</td>\n",
              "      <td>0.653036</td>\n",
              "      <td>64.613113</td>\n",
              "      <td>195.128647</td>\n",
              "      <td>78.943398</td>\n",
              "      <td>39.226524</td>\n",
              "      <td>23.642365</td>\n",
              "      <td>9.741588</td>\n",
              "      <td>6.140700</td>\n",
              "      <td>5.541381</td>\n",
              "      <td>4.642001</td>\n",
              "      <td>1.999696</td>\n",
              "      <td>1.979269</td>\n",
              "      <td>1.473115</td>\n",
              "      <td>0.699297</td>\n",
              "      <td>0.492357</td>\n",
              "      <td>0.751607</td>\n",
              "      <td>1.773325</td>\n",
              "      <td>5.082074</td>\n",
              "      <td>1.517111</td>\n",
              "      <td>0.234244</td>\n",
              "      <td>0.119929</td>\n",
              "      <td>0.086679</td>\n",
              "      <td>0.097025</td>\n",
              "      <td>0.117222</td>\n",
              "      <td>0.058849</td>\n",
              "      <td>0.063290</td>\n",
              "      <td>0.053720</td>\n",
              "      <td>0.029927</td>\n",
              "      <td>0.069739</td>\n",
              "      <td>...</td>\n",
              "      <td>-68.124947</td>\n",
              "      <td>19.072758</td>\n",
              "      <td>10.636917</td>\n",
              "      <td>44.625763</td>\n",
              "      <td>21.727133</td>\n",
              "      <td>28.014992</td>\n",
              "      <td>13.124712</td>\n",
              "      <td>13.741817</td>\n",
              "      <td>8.911787</td>\n",
              "      <td>6.608492</td>\n",
              "      <td>1.810749</td>\n",
              "      <td>2.447431</td>\n",
              "      <td>-5.538349</td>\n",
              "      <td>5.809120</td>\n",
              "      <td>3.649012</td>\n",
              "      <td>16.007906</td>\n",
              "      <td>11.443763</td>\n",
              "      <td>5.535430</td>\n",
              "      <td>-6.301594</td>\n",
              "      <td>-3.951118</td>\n",
              "      <td>4.144937</td>\n",
              "      <td>3.692703</td>\n",
              "      <td>-4.164017</td>\n",
              "      <td>-5.927013</td>\n",
              "      <td>-3.914391</td>\n",
              "      <td>5.729658</td>\n",
              "      <td>-3.537575</td>\n",
              "      <td>-4.286293</td>\n",
              "      <td>-0.717432</td>\n",
              "      <td>7.600030</td>\n",
              "      <td>2.325649</td>\n",
              "      <td>0.181568</td>\n",
              "      <td>5.074121</td>\n",
              "      <td>3.657110</td>\n",
              "      <td>-1.900312</td>\n",
              "      <td>0.548881</td>\n",
              "      <td>-0.631397</td>\n",
              "      <td>-3.344172</td>\n",
              "      <td>-4.743443</td>\n",
              "      <td>-1.028311</td>\n",
              "    </tr>\n",
              "    <tr>\n",
              "      <th>11701</th>\n",
              "      <td>0.631340</td>\n",
              "      <td>0.832487</td>\n",
              "      <td>0.632807</td>\n",
              "      <td>0.550411</td>\n",
              "      <td>0.783586</td>\n",
              "      <td>0.677703</td>\n",
              "      <td>0.873001</td>\n",
              "      <td>0.779025</td>\n",
              "      <td>0.676904</td>\n",
              "      <td>0.985563</td>\n",
              "      <td>0.814219</td>\n",
              "      <td>0.658185</td>\n",
              "      <td>54.858521</td>\n",
              "      <td>132.154541</td>\n",
              "      <td>72.474113</td>\n",
              "      <td>32.801144</td>\n",
              "      <td>22.332148</td>\n",
              "      <td>13.149437</td>\n",
              "      <td>7.040693</td>\n",
              "      <td>4.726241</td>\n",
              "      <td>3.669465</td>\n",
              "      <td>3.126983</td>\n",
              "      <td>1.763742</td>\n",
              "      <td>1.048595</td>\n",
              "      <td>0.757759</td>\n",
              "      <td>0.595519</td>\n",
              "      <td>3.582052</td>\n",
              "      <td>4.655016</td>\n",
              "      <td>0.405736</td>\n",
              "      <td>2.668678</td>\n",
              "      <td>3.460405</td>\n",
              "      <td>0.161167</td>\n",
              "      <td>0.062599</td>\n",
              "      <td>0.062729</td>\n",
              "      <td>0.074888</td>\n",
              "      <td>0.093200</td>\n",
              "      <td>0.100934</td>\n",
              "      <td>0.036462</td>\n",
              "      <td>0.031724</td>\n",
              "      <td>0.031717</td>\n",
              "      <td>...</td>\n",
              "      <td>-64.461655</td>\n",
              "      <td>19.995686</td>\n",
              "      <td>6.379887</td>\n",
              "      <td>36.780891</td>\n",
              "      <td>16.725210</td>\n",
              "      <td>28.631350</td>\n",
              "      <td>14.639458</td>\n",
              "      <td>14.231777</td>\n",
              "      <td>8.073050</td>\n",
              "      <td>4.296752</td>\n",
              "      <td>-1.234460</td>\n",
              "      <td>0.271963</td>\n",
              "      <td>-5.467294</td>\n",
              "      <td>7.786059</td>\n",
              "      <td>4.566204</td>\n",
              "      <td>15.076809</td>\n",
              "      <td>9.971317</td>\n",
              "      <td>8.396436</td>\n",
              "      <td>2.181053</td>\n",
              "      <td>-0.236569</td>\n",
              "      <td>-1.577238</td>\n",
              "      <td>-3.652696</td>\n",
              "      <td>-5.079963</td>\n",
              "      <td>0.869818</td>\n",
              "      <td>-2.526973</td>\n",
              "      <td>-3.714336</td>\n",
              "      <td>-7.726088</td>\n",
              "      <td>5.764529</td>\n",
              "      <td>6.490664</td>\n",
              "      <td>-0.072268</td>\n",
              "      <td>-4.518547</td>\n",
              "      <td>2.348475</td>\n",
              "      <td>0.990778</td>\n",
              "      <td>-0.459426</td>\n",
              "      <td>10.159852</td>\n",
              "      <td>9.148175</td>\n",
              "      <td>-9.986843</td>\n",
              "      <td>-11.601190</td>\n",
              "      <td>-4.153404</td>\n",
              "      <td>-2.161444</td>\n",
              "    </tr>\n",
              "    <tr>\n",
              "      <th>11702</th>\n",
              "      <td>0.654283</td>\n",
              "      <td>0.757843</td>\n",
              "      <td>0.734527</td>\n",
              "      <td>0.628754</td>\n",
              "      <td>0.638090</td>\n",
              "      <td>0.691218</td>\n",
              "      <td>0.869267</td>\n",
              "      <td>0.902646</td>\n",
              "      <td>0.808723</td>\n",
              "      <td>0.801989</td>\n",
              "      <td>0.798381</td>\n",
              "      <td>0.702626</td>\n",
              "      <td>24.515318</td>\n",
              "      <td>84.452614</td>\n",
              "      <td>65.424294</td>\n",
              "      <td>30.618114</td>\n",
              "      <td>14.477002</td>\n",
              "      <td>9.032727</td>\n",
              "      <td>2.720869</td>\n",
              "      <td>1.893789</td>\n",
              "      <td>1.830858</td>\n",
              "      <td>0.734555</td>\n",
              "      <td>0.526086</td>\n",
              "      <td>0.533259</td>\n",
              "      <td>0.359056</td>\n",
              "      <td>0.162642</td>\n",
              "      <td>1.188852</td>\n",
              "      <td>3.210558</td>\n",
              "      <td>2.714603</td>\n",
              "      <td>2.215372</td>\n",
              "      <td>1.607741</td>\n",
              "      <td>1.552883</td>\n",
              "      <td>0.203035</td>\n",
              "      <td>0.048669</td>\n",
              "      <td>0.054225</td>\n",
              "      <td>0.068011</td>\n",
              "      <td>0.126445</td>\n",
              "      <td>0.165239</td>\n",
              "      <td>0.201984</td>\n",
              "      <td>0.065727</td>\n",
              "      <td>...</td>\n",
              "      <td>-69.090263</td>\n",
              "      <td>16.003675</td>\n",
              "      <td>-2.103152</td>\n",
              "      <td>32.414375</td>\n",
              "      <td>11.077326</td>\n",
              "      <td>21.764589</td>\n",
              "      <td>14.372661</td>\n",
              "      <td>15.840058</td>\n",
              "      <td>9.705217</td>\n",
              "      <td>6.717601</td>\n",
              "      <td>1.991640</td>\n",
              "      <td>3.865838</td>\n",
              "      <td>-2.059504</td>\n",
              "      <td>7.592432</td>\n",
              "      <td>4.126762</td>\n",
              "      <td>16.891731</td>\n",
              "      <td>12.238518</td>\n",
              "      <td>11.492517</td>\n",
              "      <td>0.055538</td>\n",
              "      <td>-5.385426</td>\n",
              "      <td>-4.364598</td>\n",
              "      <td>0.898492</td>\n",
              "      <td>0.976280</td>\n",
              "      <td>-2.329251</td>\n",
              "      <td>-9.088198</td>\n",
              "      <td>-1.049236</td>\n",
              "      <td>0.686439</td>\n",
              "      <td>3.234514</td>\n",
              "      <td>-4.044865</td>\n",
              "      <td>-0.984503</td>\n",
              "      <td>2.452207</td>\n",
              "      <td>2.749048</td>\n",
              "      <td>0.547456</td>\n",
              "      <td>4.381307</td>\n",
              "      <td>2.847443</td>\n",
              "      <td>-4.534376</td>\n",
              "      <td>-8.100273</td>\n",
              "      <td>-2.642910</td>\n",
              "      <td>-4.259910</td>\n",
              "      <td>-1.722371</td>\n",
              "    </tr>\n",
              "    <tr>\n",
              "      <th>11703</th>\n",
              "      <td>0.697656</td>\n",
              "      <td>0.629598</td>\n",
              "      <td>0.723957</td>\n",
              "      <td>0.738073</td>\n",
              "      <td>0.578996</td>\n",
              "      <td>0.680229</td>\n",
              "      <td>0.687172</td>\n",
              "      <td>0.942751</td>\n",
              "      <td>0.954585</td>\n",
              "      <td>0.695909</td>\n",
              "      <td>0.679360</td>\n",
              "      <td>0.761159</td>\n",
              "      <td>23.648584</td>\n",
              "      <td>72.579628</td>\n",
              "      <td>42.148949</td>\n",
              "      <td>20.921295</td>\n",
              "      <td>10.594236</td>\n",
              "      <td>7.744851</td>\n",
              "      <td>5.417440</td>\n",
              "      <td>3.208370</td>\n",
              "      <td>2.050818</td>\n",
              "      <td>1.289374</td>\n",
              "      <td>1.124095</td>\n",
              "      <td>1.026199</td>\n",
              "      <td>0.395493</td>\n",
              "      <td>0.405560</td>\n",
              "      <td>0.298359</td>\n",
              "      <td>2.573896</td>\n",
              "      <td>8.011952</td>\n",
              "      <td>1.248598</td>\n",
              "      <td>0.069686</td>\n",
              "      <td>0.053409</td>\n",
              "      <td>0.041936</td>\n",
              "      <td>0.032365</td>\n",
              "      <td>0.086564</td>\n",
              "      <td>0.057937</td>\n",
              "      <td>0.021741</td>\n",
              "      <td>0.018220</td>\n",
              "      <td>0.019259</td>\n",
              "      <td>0.116981</td>\n",
              "      <td>...</td>\n",
              "      <td>-75.117691</td>\n",
              "      <td>6.841518</td>\n",
              "      <td>5.070042</td>\n",
              "      <td>38.676266</td>\n",
              "      <td>14.499814</td>\n",
              "      <td>26.515032</td>\n",
              "      <td>12.827895</td>\n",
              "      <td>12.781883</td>\n",
              "      <td>10.794677</td>\n",
              "      <td>6.819536</td>\n",
              "      <td>2.596626</td>\n",
              "      <td>1.359768</td>\n",
              "      <td>-7.463452</td>\n",
              "      <td>2.174035</td>\n",
              "      <td>2.297024</td>\n",
              "      <td>18.214731</td>\n",
              "      <td>15.648637</td>\n",
              "      <td>10.385574</td>\n",
              "      <td>-2.776873</td>\n",
              "      <td>-6.776152</td>\n",
              "      <td>0.614735</td>\n",
              "      <td>6.252910</td>\n",
              "      <td>-4.649140</td>\n",
              "      <td>-11.136058</td>\n",
              "      <td>-7.034914</td>\n",
              "      <td>7.752897</td>\n",
              "      <td>0.631389</td>\n",
              "      <td>-5.050425</td>\n",
              "      <td>-4.581024</td>\n",
              "      <td>8.509642</td>\n",
              "      <td>5.204610</td>\n",
              "      <td>0.734268</td>\n",
              "      <td>6.684676</td>\n",
              "      <td>6.096923</td>\n",
              "      <td>-3.808731</td>\n",
              "      <td>-3.569860</td>\n",
              "      <td>3.253692</td>\n",
              "      <td>-1.146756</td>\n",
              "      <td>-8.653100</td>\n",
              "      <td>-3.651264</td>\n",
              "    </tr>\n",
              "  </tbody>\n",
              "</table>\n",
              "<p>11704 rows × 180 columns</p>\n",
              "</div>\n",
              "      <button class=\"colab-df-convert\" onclick=\"convertToInteractive('df-22ec304d-404d-470e-b21e-ebfe4e85a5a7')\"\n",
              "              title=\"Convert this dataframe to an interactive table.\"\n",
              "              style=\"display:none;\">\n",
              "        \n",
              "  <svg xmlns=\"http://www.w3.org/2000/svg\" height=\"24px\"viewBox=\"0 0 24 24\"\n",
              "       width=\"24px\">\n",
              "    <path d=\"M0 0h24v24H0V0z\" fill=\"none\"/>\n",
              "    <path d=\"M18.56 5.44l.94 2.06.94-2.06 2.06-.94-2.06-.94-.94-2.06-.94 2.06-2.06.94zm-11 1L8.5 8.5l.94-2.06 2.06-.94-2.06-.94L8.5 2.5l-.94 2.06-2.06.94zm10 10l.94 2.06.94-2.06 2.06-.94-2.06-.94-.94-2.06-.94 2.06-2.06.94z\"/><path d=\"M17.41 7.96l-1.37-1.37c-.4-.4-.92-.59-1.43-.59-.52 0-1.04.2-1.43.59L10.3 9.45l-7.72 7.72c-.78.78-.78 2.05 0 2.83L4 21.41c.39.39.9.59 1.41.59.51 0 1.02-.2 1.41-.59l7.78-7.78 2.81-2.81c.8-.78.8-2.07 0-2.86zM5.41 20L4 18.59l7.72-7.72 1.47 1.35L5.41 20z\"/>\n",
              "  </svg>\n",
              "      </button>\n",
              "      \n",
              "  <style>\n",
              "    .colab-df-container {\n",
              "      display:flex;\n",
              "      flex-wrap:wrap;\n",
              "      gap: 12px;\n",
              "    }\n",
              "\n",
              "    .colab-df-convert {\n",
              "      background-color: #E8F0FE;\n",
              "      border: none;\n",
              "      border-radius: 50%;\n",
              "      cursor: pointer;\n",
              "      display: none;\n",
              "      fill: #1967D2;\n",
              "      height: 32px;\n",
              "      padding: 0 0 0 0;\n",
              "      width: 32px;\n",
              "    }\n",
              "\n",
              "    .colab-df-convert:hover {\n",
              "      background-color: #E2EBFA;\n",
              "      box-shadow: 0px 1px 2px rgba(60, 64, 67, 0.3), 0px 1px 3px 1px rgba(60, 64, 67, 0.15);\n",
              "      fill: #174EA6;\n",
              "    }\n",
              "\n",
              "    [theme=dark] .colab-df-convert {\n",
              "      background-color: #3B4455;\n",
              "      fill: #D2E3FC;\n",
              "    }\n",
              "\n",
              "    [theme=dark] .colab-df-convert:hover {\n",
              "      background-color: #434B5C;\n",
              "      box-shadow: 0px 1px 3px 1px rgba(0, 0, 0, 0.15);\n",
              "      filter: drop-shadow(0px 1px 2px rgba(0, 0, 0, 0.3));\n",
              "      fill: #FFFFFF;\n",
              "    }\n",
              "  </style>\n",
              "\n",
              "      <script>\n",
              "        const buttonEl =\n",
              "          document.querySelector('#df-22ec304d-404d-470e-b21e-ebfe4e85a5a7 button.colab-df-convert');\n",
              "        buttonEl.style.display =\n",
              "          google.colab.kernel.accessAllowed ? 'block' : 'none';\n",
              "\n",
              "        async function convertToInteractive(key) {\n",
              "          const element = document.querySelector('#df-22ec304d-404d-470e-b21e-ebfe4e85a5a7');\n",
              "          const dataTable =\n",
              "            await google.colab.kernel.invokeFunction('convertToInteractive',\n",
              "                                                     [key], {});\n",
              "          if (!dataTable) return;\n",
              "\n",
              "          const docLinkHtml = 'Like what you see? Visit the ' +\n",
              "            '<a target=\"_blank\" href=https://colab.research.google.com/notebooks/data_table.ipynb>data table notebook</a>'\n",
              "            + ' to learn more about interactive tables.';\n",
              "          element.innerHTML = '';\n",
              "          dataTable['output_type'] = 'display_data';\n",
              "          await google.colab.output.renderOutput(dataTable, element);\n",
              "          const docLink = document.createElement('div');\n",
              "          docLink.innerHTML = docLinkHtml;\n",
              "          element.appendChild(docLink);\n",
              "        }\n",
              "      </script>\n",
              "    </div>\n",
              "  </div>\n",
              "  "
            ],
            "text/plain": [
              "            0         1         2    ...        177        178        179\n",
              "0      0.357157  0.381954  0.777153  ...  -1.262464  11.294629  11.655873\n",
              "1      0.413490  0.467945  0.542397  ...  -1.711441   3.685992   5.664645\n",
              "2      0.466327  0.507660  0.864222  ...  -4.888212  -0.685481   3.033950\n",
              "3      0.478108  0.520802  0.944146  ...   1.420678   3.971224   2.852725\n",
              "4      0.426595  0.736908  0.685356  ...   3.481821  -1.244377  -6.615057\n",
              "...         ...       ...       ...  ...        ...        ...        ...\n",
              "11699  0.570142  0.566275  0.738984  ...  -2.888163  -9.484922  -4.397699\n",
              "11700  0.669952  0.644643  0.631511  ...  -3.344172  -4.743443  -1.028311\n",
              "11701  0.631340  0.832487  0.632807  ... -11.601190  -4.153404  -2.161444\n",
              "11702  0.654283  0.757843  0.734527  ...  -2.642910  -4.259910  -1.722371\n",
              "11703  0.697656  0.629598  0.723957  ...  -1.146756  -8.653100  -3.651264\n",
              "\n",
              "[11704 rows x 180 columns]"
            ]
          },
          "metadata": {},
          "execution_count": 110
        }
      ]
    },
    {
      "cell_type": "code",
      "metadata": {
        "colab": {
          "base_uri": "https://localhost:8080/",
          "height": 279
        },
        "id": "2aUGF49HOdwg",
        "outputId": "620bc433-68e8-4ed6-f592-52226a4315c0"
      },
      "source": [
        "# plot emotions\n",
        "plt.figure(figsize=(35,4))\n",
        "plt.subplot(1,3,1)\n",
        "#np.unique returns ordered list of unique elements and count of each element\n",
        "class_list, count = np.unique(classes, return_counts=True)\n",
        "plt.bar(x=range(3), height=count)\n",
        "plt.xticks(ticks=range(3), labels = [clas for clas in class_list],fontsize=10)\n",
        "plt.xlabel('Emotion')\n",
        "plt.tick_params(labelsize=16)\n",
        "plt.ylabel('Number of Samples')\n",
        "plt.show()"
      ],
      "execution_count": 111,
      "outputs": [
        {
          "output_type": "display_data",
          "data": {
            "image/png": "[encoded data removed]",
            "text/plain": [
              "<Figure size 2520x288 with 1 Axes>"
            ]
          },
          "metadata": {
            "needs_background": "light"
          }
        }
      ]
    },
    {
      "cell_type": "markdown",
      "metadata": {
        "id": "Zxxe8WBePMRa"
      },
      "source": [
        "So there isn't alot of \"bebop_1\" or \"membo_1\" audio samples in this data set. I've been in data science long enough that I know this will have an effect upon the model. I'll have to figure what exactly I'm going to do to try and fix this (perhaps oversampling or undersampling)"
      ]
    },
    {
      "cell_type": "markdown",
      "metadata": {
        "id": "VCQDUai7P4RD"
      },
      "source": [
        "#Feature scaling\n"
      ]
    },
    {
      "cell_type": "markdown",
      "metadata": {
        "id": "rc9lDyegQGaY"
      },
      "source": [
        "Lets take a look at our features distributions, then we can decide whther to use min max scaling or standard scalart to help with some feature scaling"
      ]
    },
    {
      "cell_type": "code",
      "metadata": {
        "colab": {
          "base_uri": "https://localhost:8080/"
        },
        "id": "4XdXIhs1O93v",
        "outputId": "1e4b05d2-e3cb-45d3-a57d-0cd63b33bbc5"
      },
      "source": [
        "# We would usually use df.describe(), but it provides a bit of a mess of information we don't need at the moment.\n",
        "def print_features(df):\n",
        "    # Check chromagram feature values\n",
        "    features_df_chromagram = df.loc[:,:11]\n",
        "    chroma_min = features_df_chromagram.min().min()\n",
        "    chroma_max = features_df_chromagram.max().max()\n",
        "    # stack all features into a single series so we don't get a mean of means or stdev of stdevs\n",
        "    chroma_mean = features_df_chromagram.stack().mean()\n",
        "    chroma_stdev = features_df_chromagram.stack().std()\n",
        "    print(f'12 Chromagram features:       \\\n",
        "    min = {chroma_min:.3f}, \\\n",
        "    max = {chroma_max:.3f}, \\\n",
        "    mean = {chroma_mean:.3f}, \\\n",
        "    deviation = {chroma_stdev:.3f}') \n",
        "\n",
        "    # Check mel spectrogram feature values\n",
        "    features_df_melspectrogram = df.loc[:,12:139]\n",
        "    mel_min = features_df_melspectrogram.min().min()\n",
        "    mel_max = features_df_melspectrogram.max().max()\n",
        "    # stack all features into a single series so we don't get a mean of means or stdev of stdevs\n",
        "    mel_mean = features_df_melspectrogram.stack().mean()\n",
        "    mel_stdev = features_df_melspectrogram.stack().std()\n",
        "    print(f'\\n128 Mel Spectrogram features: \\\n",
        "    min = {mel_min:.3f}, \\\n",
        "    max = {mel_max:.3f}, \\\n",
        "    mean = {mel_mean:.3f}, \\\n",
        "    deviation = {mel_stdev:.3f}')\n",
        "\n",
        "    # Check MFCC feature values\n",
        "    features_df_mfcc = df.loc[:,140:179]\n",
        "    mfcc_min = features_df_mfcc.min().min()\n",
        "    mfcc_max = features_df_mfcc.max().max()\n",
        "    # stack all features into a single series so we don't get a mean of means or stdev of stdevs\n",
        "    mfcc_mean = features_df_mfcc.stack().mean()\n",
        "    mfcc_stdev = features_df_mfcc.stack().std()\n",
        "    print(f'\\n40 MFCC features:             \\\n",
        "    min = {mfcc_min:.3f},\\\n",
        "    max = {mfcc_max:.3f},\\\n",
        "    mean = {mfcc_mean:.3f},\\\n",
        "    deviation = {mfcc_stdev:.3f}')\n",
        "    \n",
        "print_features(features_df)"
      ],
      "execution_count": 112,
      "outputs": [
        {
          "output_type": "stream",
          "name": "stdout",
          "text": [
            "12 Chromagram features:           min = 0.000,     max = 1.000,     mean = 0.613,     deviation = 0.268\n",
            "\n",
            "128 Mel Spectrogram features:     min = 0.000,     max = 9669.961,     mean = 3.037,     deviation = 40.855\n",
            "\n",
            "40 MFCC features:                 min = -1131.371,    max = 282.065,    mean = -6.322,    deviation = 73.058\n"
          ]
        }
      ]
    },
    {
      "cell_type": "markdown",
      "metadata": {
        "id": "xFt9-S4CQvKV"
      },
      "source": [
        "We can see that our features have different distributions. Next I will use minmaxscalar and standard scalar to help with feature scaling"
      ]
    },
    {
      "cell_type": "code",
      "metadata": {
        "id": "Z4FC8nL-QBEA"
      },
      "source": [
        "## StandardScaler / minmax\n",
        "from sklearn.preprocessing import StandardScaler\n",
        "from sklearn.preprocessing import MinMaxScaler\n",
        "\n",
        "scaler = StandardScaler()\n",
        "# keep our unscaled features just in case we need to process them alternatively\n",
        "features_scaled = features \n",
        "features_scaled = scaler.fit_transform(features_scaled)\n",
        "\n",
        "scaler = MinMaxScaler()\n",
        "# keep our unscaled features just in case we need to process them alternatively\n",
        "features_minmax = features\n",
        "features_minmax = scaler.fit_transform(features_minmax)"
      ],
      "execution_count": 113,
      "outputs": []
    },
    {
      "cell_type": "code",
      "metadata": {
        "colab": {
          "base_uri": "https://localhost:8080/"
        },
        "id": "BIHPUDk1Qfvq",
        "outputId": "e2212b2a-5c4f-4888-9608-c61d0892c256"
      },
      "source": [
        "print('\\033[1m'+'Standard Scaling:\\n'+'\\033[0m')\n",
        "features_scaled_df = pd.DataFrame(features_scaled)\n",
        "print_features(features_scaled_df)\n",
        "\n",
        "print('\\n\\n\\033[1m'+'MinMax Scaling:\\n'+'\\033[0m')\n",
        "features_minmax_df = pd.DataFrame(features_minmax)\n",
        "print_features(features_minmax_df)"
      ],
      "execution_count": 114,
      "outputs": [
        {
          "output_type": "stream",
          "name": "stdout",
          "text": [
            "\u001b[1mStandard Scaling:\n",
            "\u001b[0m\n",
            "12 Chromagram features:           min = -2.317,     max = 1.582,     mean = -0.000,     deviation = 1.000\n",
            "\n",
            "128 Mel Spectrogram features:     min = -0.198,     max = 104.197,     mean = 0.000,     deviation = 0.996\n",
            "\n",
            "40 MFCC features:                 min = -11.856,    max = 12.606,    mean = -0.000,    deviation = 1.000\n",
            "\n",
            "\n",
            "\u001b[1mMinMax Scaling:\n",
            "\u001b[0m\n",
            "12 Chromagram features:           min = 0.000,     max = 1.000,     mean = 0.613,     deviation = 0.268\n",
            "\n",
            "128 Mel Spectrogram features:     min = 0.000,     max = 1.000,     mean = 0.003,     deviation = 0.023\n",
            "\n",
            "40 MFCC features:                 min = 0.000,    max = 1.000,    mean = 0.456,    deviation = 0.112\n"
          ]
        }
      ]
    },
    {
      "cell_type": "markdown",
      "metadata": {
        "id": "P1NY7GJRRHWH"
      },
      "source": [
        "So right now I\"m leaning toward using standard scaling since one of our features is already between [0,1]"
      ]
    },
    {
      "cell_type": "code",
      "metadata": {
        "id": "3MzDxNuhTAWT"
      },
      "source": [
        "############# Unscaled test/train set #############\n",
        "from sklearn.model_selection import train_test_split\n",
        "X_train, X_test, y_train, y_test = train_test_split(\n",
        "    features, \n",
        "    classes, \n",
        "    test_size=0.2, \n",
        "    random_state=69\n",
        ")\n",
        "\n",
        "############ Standard Scaled test/train set ###########\n",
        "# The labels/classes (y_train, y_test) never change, keep old values \n",
        "X_train_scaled, X_test_scaled, _, _ = train_test_split(\n",
        "    features_scaled, \n",
        "    classes, \n",
        "    test_size=0.2, \n",
        "    random_state=69\n",
        ")\n",
        "\n",
        "############# MinMax Scaled test/train set ###############\n",
        "# The labels/classes (y_train, y_test) never change, keep old values \n",
        "X_train_minmax, X_test_minmax, _, _ = train_test_split(\n",
        "    features_scaled, \n",
        "    classes, \n",
        "    test_size=0.2, \n",
        "    random_state=69\n",
        ")"
      ],
      "execution_count": 115,
      "outputs": []
    },
    {
      "cell_type": "markdown",
      "metadata": {
        "id": "7RLJN06SRPrm"
      },
      "source": [
        "# ML models"
      ]
    },
    {
      "cell_type": "markdown",
      "metadata": {
        "id": "fkcxzWsWS6Oe"
      },
      "source": [
        "Lets just compare some base models"
      ]
    },
    {
      "cell_type": "code",
      "metadata": {
        "colab": {
          "base_uri": "https://localhost:8080/",
          "height": 331
        },
        "id": "kjIUtPtDRB3E",
        "outputId": "e6e9fcd5-254b-483f-8a90-775069b590e2"
      },
      "source": [
        "from sklearn.neighbors import KNeighborsClassifier\n",
        "from sklearn.svm import SVC\n",
        "from sklearn.tree import DecisionTreeClassifier\n",
        "from sklearn.ensemble import RandomForestClassifier, AdaBoostClassifier\n",
        "from sklearn.naive_bayes import GaussianNB\n",
        "from sklearn.discriminant_analysis import QuadraticDiscriminantAnalysis\n",
        "from xgboost import XGBClassifier\n",
        "\n",
        "classification_models = [\n",
        "    KNeighborsClassifier(),#(3),\n",
        "    SVC(kernel='linear'),#, C=0.025),\n",
        "    SVC(kernel='rbf'),\n",
        "    DecisionTreeClassifier(),#max_depth=5),\n",
        "    RandomForestClassifier(),#max_depth=5, n_estimators=10, max_features=1),\n",
        "    AdaBoostClassifier(),\n",
        "    XGBClassifier(),\n",
        "    GaussianNB(),\n",
        "    \n",
        "    QuadraticDiscriminantAnalysis()]\n",
        "\n",
        "scores = []\n",
        "for model in classification_models:\n",
        "    model.fit(X_train_scaled, y_train)\n",
        "    score = model.score(X_test_scaled, y_test)\n",
        "    model_name = type(model).__name__\n",
        "    if model_name=='SVC' and model.kernel=='rbf': model_name+=' RBF kernel'\n",
        "    scores.append((model_name,(f'{100*score:.2f}%')))\n",
        "# Make it pretty\n",
        "scores_df = pd.DataFrame(scores,columns=['Classifier','Accuracy Score'])\n",
        "scores_df.sort_values(by='Accuracy Score',axis=0,ascending=False)"
      ],
      "execution_count": 116,
      "outputs": [
        {
          "output_type": "execute_result",
          "data": {
            "text/html": [
              "\n",
              "  <div id=\"df-6c181995-86a7-49ac-ba42-8dae9b52f907\">\n",
              "    <div class=\"colab-df-container\">\n",
              "      <div>\n",
              "<style scoped>\n",
              "    .dataframe tbody tr th:only-of-type {\n",
              "        vertical-align: middle;\n",
              "    }\n",
              "\n",
              "    .dataframe tbody tr th {\n",
              "        vertical-align: top;\n",
              "    }\n",
              "\n",
              "    .dataframe thead th {\n",
              "        text-align: right;\n",
              "    }\n",
              "</style>\n",
              "<table border=\"1\" class=\"dataframe\">\n",
              "  <thead>\n",
              "    <tr style=\"text-align: right;\">\n",
              "      <th></th>\n",
              "      <th>Classifier</th>\n",
              "      <th>Accuracy Score</th>\n",
              "    </tr>\n",
              "  </thead>\n",
              "  <tbody>\n",
              "    <tr>\n",
              "      <th>4</th>\n",
              "      <td>RandomForestClassifier</td>\n",
              "      <td>98.68%</td>\n",
              "    </tr>\n",
              "    <tr>\n",
              "      <th>6</th>\n",
              "      <td>XGBClassifier</td>\n",
              "      <td>98.63%</td>\n",
              "    </tr>\n",
              "    <tr>\n",
              "      <th>0</th>\n",
              "      <td>KNeighborsClassifier</td>\n",
              "      <td>98.59%</td>\n",
              "    </tr>\n",
              "    <tr>\n",
              "      <th>1</th>\n",
              "      <td>SVC</td>\n",
              "      <td>98.38%</td>\n",
              "    </tr>\n",
              "    <tr>\n",
              "      <th>2</th>\n",
              "      <td>SVC RBF kernel</td>\n",
              "      <td>97.99%</td>\n",
              "    </tr>\n",
              "    <tr>\n",
              "      <th>3</th>\n",
              "      <td>DecisionTreeClassifier</td>\n",
              "      <td>97.14%</td>\n",
              "    </tr>\n",
              "    <tr>\n",
              "      <th>5</th>\n",
              "      <td>AdaBoostClassifier</td>\n",
              "      <td>96.50%</td>\n",
              "    </tr>\n",
              "    <tr>\n",
              "      <th>8</th>\n",
              "      <td>QuadraticDiscriminantAnalysis</td>\n",
              "      <td>70.65%</td>\n",
              "    </tr>\n",
              "    <tr>\n",
              "      <th>7</th>\n",
              "      <td>GaussianNB</td>\n",
              "      <td>36.99%</td>\n",
              "    </tr>\n",
              "  </tbody>\n",
              "</table>\n",
              "</div>\n",
              "      <button class=\"colab-df-convert\" onclick=\"convertToInteractive('df-6c181995-86a7-49ac-ba42-8dae9b52f907')\"\n",
              "              title=\"Convert this dataframe to an interactive table.\"\n",
              "              style=\"display:none;\">\n",
              "        \n",
              "  <svg xmlns=\"http://www.w3.org/2000/svg\" height=\"24px\"viewBox=\"0 0 24 24\"\n",
              "       width=\"24px\">\n",
              "    <path d=\"M0 0h24v24H0V0z\" fill=\"none\"/>\n",
              "    <path d=\"M18.56 5.44l.94 2.06.94-2.06 2.06-.94-2.06-.94-.94-2.06-.94 2.06-2.06.94zm-11 1L8.5 8.5l.94-2.06 2.06-.94-2.06-.94L8.5 2.5l-.94 2.06-2.06.94zm10 10l.94 2.06.94-2.06 2.06-.94-2.06-.94-.94-2.06-.94 2.06-2.06.94z\"/><path d=\"M17.41 7.96l-1.37-1.37c-.4-.4-.92-.59-1.43-.59-.52 0-1.04.2-1.43.59L10.3 9.45l-7.72 7.72c-.78.78-.78 2.05 0 2.83L4 21.41c.39.39.9.59 1.41.59.51 0 1.02-.2 1.41-.59l7.78-7.78 2.81-2.81c.8-.78.8-2.07 0-2.86zM5.41 20L4 18.59l7.72-7.72 1.47 1.35L5.41 20z\"/>\n",
              "  </svg>\n",
              "      </button>\n",
              "      \n",
              "  <style>\n",
              "    .colab-df-container {\n",
              "      display:flex;\n",
              "      flex-wrap:wrap;\n",
              "      gap: 12px;\n",
              "    }\n",
              "\n",
              "    .colab-df-convert {\n",
              "      background-color: #E8F0FE;\n",
              "      border: none;\n",
              "      border-radius: 50%;\n",
              "      cursor: pointer;\n",
              "      display: none;\n",
              "      fill: #1967D2;\n",
              "      height: 32px;\n",
              "      padding: 0 0 0 0;\n",
              "      width: 32px;\n",
              "    }\n",
              "\n",
              "    .colab-df-convert:hover {\n",
              "      background-color: #E2EBFA;\n",
              "      box-shadow: 0px 1px 2px rgba(60, 64, 67, 0.3), 0px 1px 3px 1px rgba(60, 64, 67, 0.15);\n",
              "      fill: #174EA6;\n",
              "    }\n",
              "\n",
              "    [theme=dark] .colab-df-convert {\n",
              "      background-color: #3B4455;\n",
              "      fill: #D2E3FC;\n",
              "    }\n",
              "\n",
              "    [theme=dark] .colab-df-convert:hover {\n",
              "      background-color: #434B5C;\n",
              "      box-shadow: 0px 1px 3px 1px rgba(0, 0, 0, 0.15);\n",
              "      filter: drop-shadow(0px 1px 2px rgba(0, 0, 0, 0.3));\n",
              "      fill: #FFFFFF;\n",
              "    }\n",
              "  </style>\n",
              "\n",
              "      <script>\n",
              "        const buttonEl =\n",
              "          document.querySelector('#df-6c181995-86a7-49ac-ba42-8dae9b52f907 button.colab-df-convert');\n",
              "        buttonEl.style.display =\n",
              "          google.colab.kernel.accessAllowed ? 'block' : 'none';\n",
              "\n",
              "        async function convertToInteractive(key) {\n",
              "          const element = document.querySelector('#df-6c181995-86a7-49ac-ba42-8dae9b52f907');\n",
              "          const dataTable =\n",
              "            await google.colab.kernel.invokeFunction('convertToInteractive',\n",
              "                                                     [key], {});\n",
              "          if (!dataTable) return;\n",
              "\n",
              "          const docLinkHtml = 'Like what you see? Visit the ' +\n",
              "            '<a target=\"_blank\" href=https://colab.research.google.com/notebooks/data_table.ipynb>data table notebook</a>'\n",
              "            + ' to learn more about interactive tables.';\n",
              "          element.innerHTML = '';\n",
              "          dataTable['output_type'] = 'display_data';\n",
              "          await google.colab.output.renderOutput(dataTable, element);\n",
              "          const docLink = document.createElement('div');\n",
              "          docLink.innerHTML = docLinkHtml;\n",
              "          element.appendChild(docLink);\n",
              "        }\n",
              "      </script>\n",
              "    </div>\n",
              "  </div>\n",
              "  "
            ],
            "text/plain": [
              "                      Classifier Accuracy Score\n",
              "4         RandomForestClassifier         98.68%\n",
              "6                  XGBClassifier         98.63%\n",
              "0           KNeighborsClassifier         98.59%\n",
              "1                            SVC         98.38%\n",
              "2                 SVC RBF kernel         97.99%\n",
              "3         DecisionTreeClassifier         97.14%\n",
              "5             AdaBoostClassifier         96.50%\n",
              "8  QuadraticDiscriminantAnalysis         70.65%\n",
              "7                     GaussianNB         36.99%"
            ]
          },
          "metadata": {},
          "execution_count": 116
        }
      ]
    },
    {
      "cell_type": "markdown",
      "metadata": {
        "id": "5r-YCFssXMLJ"
      },
      "source": [
        "Looks like there are some good Results! I will now attempt to see if I can create a A.N.N. that can acheive similarly high results!"
      ]
    },
    {
      "cell_type": "markdown",
      "source": [
        "# Creating our A.N.N."
      ],
      "metadata": {
        "id": "2QZJZpkVNu09"
      }
    },
    {
      "cell_type": "code",
      "source": [
        "log_dir = \"logs/fit/\" + datetime.datetime.now().strftime(\"%Y%m%d-%H%M%S\")\n",
        "tensorboard_callback = tf.keras.callbacks.TensorBoard(log_dir=log_dir, histogram_freq=1)"
      ],
      "metadata": {
        "id": "4sOY2NfpP8se"
      },
      "execution_count": 124,
      "outputs": []
    },
    {
      "cell_type": "code",
      "source": [
        "from sklearn.preprocessing import OrdinalEncoder\n",
        "\n",
        "y = pd.DataFrame(y_train)\n",
        "ord_enc = OrdinalEncoder()\n",
        "y = pd.DataFrame(ord_enc.fit_transform(y))\n",
        "y.value_counts()"
      ],
      "metadata": {
        "id": "4TC5s_d2ZPh3",
        "outputId": "de9330bb-05a2-4230-c731-a90f0c217894",
        "colab": {
          "base_uri": "https://localhost:8080/"
        }
      },
      "execution_count": 166,
      "outputs": [
        {
          "output_type": "execute_result",
          "data": {
            "text/plain": [
              "2.0    8286\n",
              "1.0     540\n",
              "0.0     537\n",
              "dtype: int64"
            ]
          },
          "metadata": {},
          "execution_count": 166
        }
      ]
    },
    {
      "cell_type": "code",
      "metadata": {
        "id": "bRvtRSrOS8uX",
        "outputId": "6f17e332-1d74-41bd-eef2-b4bc4d29a7ad",
        "colab": {
          "base_uri": "https://localhost:8080/",
          "height": 742
        }
      },
      "source": [
        "\n",
        "\n",
        "# Adds ResNet50 into a model with a output layers with 5 classifaction nodes\n",
        "model = keras.Sequential([tf.keras.layers.Dense(units=300,input_dim=180),\n",
        "    tf.keras.layers.Dense(units=400, activation='LeakyReLU'),\n",
        "    tf.keras.layers.Dense(units=400, activation='LeakyReLU'),\n",
        "    tf.keras.layers.Dense(3,activation=\"softmax\") # number of perceptrons\n",
        "])\n",
        "\n",
        "# optimizers\n",
        "radam = tfa.optimizers.RectifiedAdam(learning_rate=1e-3)\n",
        "model.compile(loss=\"sparse_categorical_crossentropy\", optimizer=radam, metrics=['acc'])\n",
        "\n",
        "model_checkpoint_callback = keras.callbacks.ModelCheckpoint(\n",
        "    filepath='/tmp/checkpoint', #creates a temporary folder that will store the model weight associated with the best val_acc score. \n",
        "    monitor='val_acc',\n",
        "    mode='max',\n",
        "    save_best_only=True)\n",
        "\n",
        "\n",
        "history = model.fit(x,y,validation_split=.2,epochs=10,batch_size=64,callbacks=[model_checkpoint_callback,tensorboard_callback])\n"
      ],
      "execution_count": 167,
      "outputs": [
        {
          "output_type": "stream",
          "name": "stdout",
          "text": [
            "Epoch 1/10\n",
            "115/118 [============================>.] - ETA: 0s - loss: 0.3693 - acc: 0.8683"
          ]
        },
        {
          "output_type": "stream",
          "name": "stderr",
          "text": [
            "WARNING:absl:Found untraced functions such as leaky_re_lu_28_layer_call_fn, leaky_re_lu_28_layer_call_and_return_conditional_losses, leaky_re_lu_29_layer_call_fn, leaky_re_lu_29_layer_call_and_return_conditional_losses, leaky_re_lu_28_layer_call_fn while saving (showing 5 of 10). These functions will not be directly callable after loading.\n"
          ]
        },
        {
          "output_type": "stream",
          "name": "stdout",
          "text": [
            "INFO:tensorflow:Assets written to: /tmp/checkpoint/assets\n"
          ]
        },
        {
          "output_type": "stream",
          "name": "stderr",
          "text": [
            "INFO:tensorflow:Assets written to: /tmp/checkpoint/assets\n"
          ]
        },
        {
          "output_type": "stream",
          "name": "stdout",
          "text": [
            "\b\b\b\b\b\b\b\b\b\b\b\b\b\b\b\b\b\b\b\b\b\b\b\b\b\b\b\b\b\b\b\b\b\b\b\b\b\b\b\b\b\b\b\b\b\b\b\b\b\b\b\b\b\b\b\b\b\b\b\b\b\b\b\b\b\b\b\b\b\b\b\b\b\b\b\b\b\b\b\r118/118 [==============================] - 4s 24ms/step - loss: 0.3649 - acc: 0.8701 - val_loss: 0.1310 - val_acc: 0.9632\n",
            "Epoch 2/10\n",
            "113/118 [===========================>..] - ETA: 0s - loss: 0.0875 - acc: 0.9765"
          ]
        },
        {
          "output_type": "stream",
          "name": "stderr",
          "text": [
            "WARNING:absl:Found untraced functions such as leaky_re_lu_28_layer_call_fn, leaky_re_lu_28_layer_call_and_return_conditional_losses, leaky_re_lu_29_layer_call_fn, leaky_re_lu_29_layer_call_and_return_conditional_losses, leaky_re_lu_28_layer_call_fn while saving (showing 5 of 10). These functions will not be directly callable after loading.\n"
          ]
        },
        {
          "output_type": "stream",
          "name": "stdout",
          "text": [
            "INFO:tensorflow:Assets written to: /tmp/checkpoint/assets\n"
          ]
        },
        {
          "output_type": "stream",
          "name": "stderr",
          "text": [
            "INFO:tensorflow:Assets written to: /tmp/checkpoint/assets\n"
          ]
        },
        {
          "output_type": "stream",
          "name": "stdout",
          "text": [
            "118/118 [==============================] - 2s 20ms/step - loss: 0.0857 - acc: 0.9772 - val_loss: 0.0797 - val_acc: 0.9770\n",
            "Epoch 3/10\n",
            "115/118 [============================>.] - ETA: 0s - loss: 0.0579 - acc: 0.9859"
          ]
        },
        {
          "output_type": "stream",
          "name": "stderr",
          "text": [
            "WARNING:absl:Found untraced functions such as leaky_re_lu_28_layer_call_fn, leaky_re_lu_28_layer_call_and_return_conditional_losses, leaky_re_lu_29_layer_call_fn, leaky_re_lu_29_layer_call_and_return_conditional_losses, leaky_re_lu_28_layer_call_fn while saving (showing 5 of 10). These functions will not be directly callable after loading.\n"
          ]
        },
        {
          "output_type": "stream",
          "name": "stdout",
          "text": [
            "INFO:tensorflow:Assets written to: /tmp/checkpoint/assets\n"
          ]
        },
        {
          "output_type": "stream",
          "name": "stderr",
          "text": [
            "INFO:tensorflow:Assets written to: /tmp/checkpoint/assets\n"
          ]
        },
        {
          "output_type": "stream",
          "name": "stdout",
          "text": [
            "118/118 [==============================] - 2s 19ms/step - loss: 0.0578 - acc: 0.9857 - val_loss: 0.0623 - val_acc: 0.9824\n",
            "Epoch 4/10\n",
            "117/118 [============================>.] - ETA: 0s - loss: 0.0434 - acc: 0.9886"
          ]
        },
        {
          "output_type": "error",
          "ename": "KeyboardInterrupt",
          "evalue": "ignored",
          "traceback": [
            "\u001b[0;31m---------------------------------------------------------------------------\u001b[0m",
            "\u001b[0;31mKeyboardInterrupt\u001b[0m                         Traceback (most recent call last)",
            "\u001b[0;32m<ipython-input-167-c1cd9e1fca28>\u001b[0m in \u001b[0;36m<module>\u001b[0;34m()\u001b[0m\n\u001b[1;32m     19\u001b[0m \u001b[0;34m\u001b[0m\u001b[0m\n\u001b[1;32m     20\u001b[0m \u001b[0;34m\u001b[0m\u001b[0m\n\u001b[0;32m---> 21\u001b[0;31m \u001b[0mhistory\u001b[0m \u001b[0;34m=\u001b[0m \u001b[0mmodel\u001b[0m\u001b[0;34m.\u001b[0m\u001b[0mfit\u001b[0m\u001b[0;34m(\u001b[0m\u001b[0mx\u001b[0m\u001b[0;34m,\u001b[0m\u001b[0my\u001b[0m\u001b[0;34m,\u001b[0m\u001b[0mvalidation_split\u001b[0m\u001b[0;34m=\u001b[0m\u001b[0;36m.2\u001b[0m\u001b[0;34m,\u001b[0m\u001b[0mepochs\u001b[0m\u001b[0;34m=\u001b[0m\u001b[0;36m10\u001b[0m\u001b[0;34m,\u001b[0m\u001b[0mbatch_size\u001b[0m\u001b[0;34m=\u001b[0m\u001b[0;36m64\u001b[0m\u001b[0;34m,\u001b[0m\u001b[0mcallbacks\u001b[0m\u001b[0;34m=\u001b[0m\u001b[0;34m[\u001b[0m\u001b[0mmodel_checkpoint_callback\u001b[0m\u001b[0;34m,\u001b[0m\u001b[0mtensorboard_callback\u001b[0m\u001b[0;34m]\u001b[0m\u001b[0;34m)\u001b[0m\u001b[0;34m\u001b[0m\u001b[0;34m\u001b[0m\u001b[0m\n\u001b[0m",
            "\u001b[0;32m/usr/local/lib/python3.7/dist-packages/keras/utils/traceback_utils.py\u001b[0m in \u001b[0;36merror_handler\u001b[0;34m(*args, **kwargs)\u001b[0m\n\u001b[1;32m     62\u001b[0m     \u001b[0mfiltered_tb\u001b[0m \u001b[0;34m=\u001b[0m \u001b[0;32mNone\u001b[0m\u001b[0;34m\u001b[0m\u001b[0;34m\u001b[0m\u001b[0m\n\u001b[1;32m     63\u001b[0m     \u001b[0;32mtry\u001b[0m\u001b[0;34m:\u001b[0m\u001b[0;34m\u001b[0m\u001b[0;34m\u001b[0m\u001b[0m\n\u001b[0;32m---> 64\u001b[0;31m       \u001b[0;32mreturn\u001b[0m \u001b[0mfn\u001b[0m\u001b[0;34m(\u001b[0m\u001b[0;34m*\u001b[0m\u001b[0margs\u001b[0m\u001b[0;34m,\u001b[0m \u001b[0;34m**\u001b[0m\u001b[0mkwargs\u001b[0m\u001b[0;34m)\u001b[0m\u001b[0;34m\u001b[0m\u001b[0;34m\u001b[0m\u001b[0m\n\u001b[0m\u001b[1;32m     65\u001b[0m     \u001b[0;32mexcept\u001b[0m \u001b[0mException\u001b[0m \u001b[0;32mas\u001b[0m \u001b[0me\u001b[0m\u001b[0;34m:\u001b[0m  \u001b[0;31m# pylint: disable=broad-except\u001b[0m\u001b[0;34m\u001b[0m\u001b[0;34m\u001b[0m\u001b[0m\n\u001b[1;32m     66\u001b[0m       \u001b[0mfiltered_tb\u001b[0m \u001b[0;34m=\u001b[0m \u001b[0m_process_traceback_frames\u001b[0m\u001b[0;34m(\u001b[0m\u001b[0me\u001b[0m\u001b[0;34m.\u001b[0m\u001b[0m__traceback__\u001b[0m\u001b[0;34m)\u001b[0m\u001b[0;34m\u001b[0m\u001b[0;34m\u001b[0m\u001b[0m\n",
            "\u001b[0;32m/usr/local/lib/python3.7/dist-packages/keras/engine/training.py\u001b[0m in \u001b[0;36mfit\u001b[0;34m(self, x, y, batch_size, epochs, verbose, callbacks, validation_split, validation_data, shuffle, class_weight, sample_weight, initial_epoch, steps_per_epoch, validation_steps, validation_batch_size, validation_freq, max_queue_size, workers, use_multiprocessing)\u001b[0m\n\u001b[1;32m   1265\u001b[0m           \u001b[0mepoch_logs\u001b[0m\u001b[0;34m.\u001b[0m\u001b[0mupdate\u001b[0m\u001b[0;34m(\u001b[0m\u001b[0mval_logs\u001b[0m\u001b[0;34m)\u001b[0m\u001b[0;34m\u001b[0m\u001b[0;34m\u001b[0m\u001b[0m\n\u001b[1;32m   1266\u001b[0m \u001b[0;34m\u001b[0m\u001b[0m\n\u001b[0;32m-> 1267\u001b[0;31m         \u001b[0mcallbacks\u001b[0m\u001b[0;34m.\u001b[0m\u001b[0mon_epoch_end\u001b[0m\u001b[0;34m(\u001b[0m\u001b[0mepoch\u001b[0m\u001b[0;34m,\u001b[0m \u001b[0mepoch_logs\u001b[0m\u001b[0;34m)\u001b[0m\u001b[0;34m\u001b[0m\u001b[0;34m\u001b[0m\u001b[0m\n\u001b[0m\u001b[1;32m   1268\u001b[0m         \u001b[0mtraining_logs\u001b[0m \u001b[0;34m=\u001b[0m \u001b[0mepoch_logs\u001b[0m\u001b[0;34m\u001b[0m\u001b[0;34m\u001b[0m\u001b[0m\n\u001b[1;32m   1269\u001b[0m         \u001b[0;32mif\u001b[0m \u001b[0mself\u001b[0m\u001b[0;34m.\u001b[0m\u001b[0mstop_training\u001b[0m\u001b[0;34m:\u001b[0m\u001b[0;34m\u001b[0m\u001b[0;34m\u001b[0m\u001b[0m\n",
            "\u001b[0;32m/usr/local/lib/python3.7/dist-packages/keras/callbacks.py\u001b[0m in \u001b[0;36mon_epoch_end\u001b[0;34m(self, epoch, logs)\u001b[0m\n\u001b[1;32m    412\u001b[0m     \u001b[0mlogs\u001b[0m \u001b[0;34m=\u001b[0m \u001b[0mself\u001b[0m\u001b[0;34m.\u001b[0m\u001b[0m_process_logs\u001b[0m\u001b[0;34m(\u001b[0m\u001b[0mlogs\u001b[0m\u001b[0;34m)\u001b[0m\u001b[0;34m\u001b[0m\u001b[0;34m\u001b[0m\u001b[0m\n\u001b[1;32m    413\u001b[0m     \u001b[0;32mfor\u001b[0m \u001b[0mcallback\u001b[0m \u001b[0;32min\u001b[0m \u001b[0mself\u001b[0m\u001b[0;34m.\u001b[0m\u001b[0mcallbacks\u001b[0m\u001b[0;34m:\u001b[0m\u001b[0;34m\u001b[0m\u001b[0;34m\u001b[0m\u001b[0m\n\u001b[0;32m--> 414\u001b[0;31m       \u001b[0mcallback\u001b[0m\u001b[0;34m.\u001b[0m\u001b[0mon_epoch_end\u001b[0m\u001b[0;34m(\u001b[0m\u001b[0mepoch\u001b[0m\u001b[0;34m,\u001b[0m \u001b[0mlogs\u001b[0m\u001b[0;34m)\u001b[0m\u001b[0;34m\u001b[0m\u001b[0;34m\u001b[0m\u001b[0m\n\u001b[0m\u001b[1;32m    415\u001b[0m \u001b[0;34m\u001b[0m\u001b[0m\n\u001b[1;32m    416\u001b[0m   \u001b[0;32mdef\u001b[0m \u001b[0mon_train_batch_begin\u001b[0m\u001b[0;34m(\u001b[0m\u001b[0mself\u001b[0m\u001b[0;34m,\u001b[0m \u001b[0mbatch\u001b[0m\u001b[0;34m,\u001b[0m \u001b[0mlogs\u001b[0m\u001b[0;34m=\u001b[0m\u001b[0;32mNone\u001b[0m\u001b[0;34m)\u001b[0m\u001b[0;34m:\u001b[0m\u001b[0;34m\u001b[0m\u001b[0;34m\u001b[0m\u001b[0m\n",
            "\u001b[0;32m/usr/local/lib/python3.7/dist-packages/keras/callbacks.py\u001b[0m in \u001b[0;36mon_epoch_end\u001b[0;34m(self, epoch, logs)\u001b[0m\n\u001b[1;32m   1374\u001b[0m     \u001b[0;31m# pylint: disable=protected-access\u001b[0m\u001b[0;34m\u001b[0m\u001b[0;34m\u001b[0m\u001b[0;34m\u001b[0m\u001b[0m\n\u001b[1;32m   1375\u001b[0m     \u001b[0;32mif\u001b[0m \u001b[0mself\u001b[0m\u001b[0;34m.\u001b[0m\u001b[0msave_freq\u001b[0m \u001b[0;34m==\u001b[0m \u001b[0;34m'epoch'\u001b[0m\u001b[0;34m:\u001b[0m\u001b[0;34m\u001b[0m\u001b[0;34m\u001b[0m\u001b[0m\n\u001b[0;32m-> 1376\u001b[0;31m       \u001b[0mself\u001b[0m\u001b[0;34m.\u001b[0m\u001b[0m_save_model\u001b[0m\u001b[0;34m(\u001b[0m\u001b[0mepoch\u001b[0m\u001b[0;34m=\u001b[0m\u001b[0mepoch\u001b[0m\u001b[0;34m,\u001b[0m \u001b[0mbatch\u001b[0m\u001b[0;34m=\u001b[0m\u001b[0;32mNone\u001b[0m\u001b[0;34m,\u001b[0m \u001b[0mlogs\u001b[0m\u001b[0;34m=\u001b[0m\u001b[0mlogs\u001b[0m\u001b[0;34m)\u001b[0m\u001b[0;34m\u001b[0m\u001b[0;34m\u001b[0m\u001b[0m\n\u001b[0m\u001b[1;32m   1377\u001b[0m \u001b[0;34m\u001b[0m\u001b[0m\n\u001b[1;32m   1378\u001b[0m   \u001b[0;32mdef\u001b[0m \u001b[0m_should_save_on_batch\u001b[0m\u001b[0;34m(\u001b[0m\u001b[0mself\u001b[0m\u001b[0;34m,\u001b[0m \u001b[0mbatch\u001b[0m\u001b[0;34m)\u001b[0m\u001b[0;34m:\u001b[0m\u001b[0;34m\u001b[0m\u001b[0;34m\u001b[0m\u001b[0m\n",
            "\u001b[0;32m/usr/local/lib/python3.7/dist-packages/keras/callbacks.py\u001b[0m in \u001b[0;36m_save_model\u001b[0;34m(self, epoch, batch, logs)\u001b[0m\n\u001b[1;32m   1428\u001b[0m                     filepath, overwrite=True, options=self._options)\n\u001b[1;32m   1429\u001b[0m               \u001b[0;32melse\u001b[0m\u001b[0;34m:\u001b[0m\u001b[0;34m\u001b[0m\u001b[0;34m\u001b[0m\u001b[0m\n\u001b[0;32m-> 1430\u001b[0;31m                 \u001b[0mself\u001b[0m\u001b[0;34m.\u001b[0m\u001b[0mmodel\u001b[0m\u001b[0;34m.\u001b[0m\u001b[0msave\u001b[0m\u001b[0;34m(\u001b[0m\u001b[0mfilepath\u001b[0m\u001b[0;34m,\u001b[0m \u001b[0moverwrite\u001b[0m\u001b[0;34m=\u001b[0m\u001b[0;32mTrue\u001b[0m\u001b[0;34m,\u001b[0m \u001b[0moptions\u001b[0m\u001b[0;34m=\u001b[0m\u001b[0mself\u001b[0m\u001b[0;34m.\u001b[0m\u001b[0m_options\u001b[0m\u001b[0;34m)\u001b[0m\u001b[0;34m\u001b[0m\u001b[0;34m\u001b[0m\u001b[0m\n\u001b[0m\u001b[1;32m   1431\u001b[0m             \u001b[0;32melse\u001b[0m\u001b[0;34m:\u001b[0m\u001b[0;34m\u001b[0m\u001b[0;34m\u001b[0m\u001b[0m\n\u001b[1;32m   1432\u001b[0m               \u001b[0;32mif\u001b[0m \u001b[0mself\u001b[0m\u001b[0;34m.\u001b[0m\u001b[0mverbose\u001b[0m \u001b[0;34m>\u001b[0m \u001b[0;36m0\u001b[0m\u001b[0;34m:\u001b[0m\u001b[0;34m\u001b[0m\u001b[0;34m\u001b[0m\u001b[0m\n",
            "\u001b[0;32m/usr/local/lib/python3.7/dist-packages/keras/utils/traceback_utils.py\u001b[0m in \u001b[0;36merror_handler\u001b[0;34m(*args, **kwargs)\u001b[0m\n\u001b[1;32m     62\u001b[0m     \u001b[0mfiltered_tb\u001b[0m \u001b[0;34m=\u001b[0m \u001b[0;32mNone\u001b[0m\u001b[0;34m\u001b[0m\u001b[0;34m\u001b[0m\u001b[0m\n\u001b[1;32m     63\u001b[0m     \u001b[0;32mtry\u001b[0m\u001b[0;34m:\u001b[0m\u001b[0;34m\u001b[0m\u001b[0;34m\u001b[0m\u001b[0m\n\u001b[0;32m---> 64\u001b[0;31m       \u001b[0;32mreturn\u001b[0m \u001b[0mfn\u001b[0m\u001b[0;34m(\u001b[0m\u001b[0;34m*\u001b[0m\u001b[0margs\u001b[0m\u001b[0;34m,\u001b[0m \u001b[0;34m**\u001b[0m\u001b[0mkwargs\u001b[0m\u001b[0;34m)\u001b[0m\u001b[0;34m\u001b[0m\u001b[0;34m\u001b[0m\u001b[0m\n\u001b[0m\u001b[1;32m     65\u001b[0m     \u001b[0;32mexcept\u001b[0m \u001b[0mException\u001b[0m \u001b[0;32mas\u001b[0m \u001b[0me\u001b[0m\u001b[0;34m:\u001b[0m  \u001b[0;31m# pylint: disable=broad-except\u001b[0m\u001b[0;34m\u001b[0m\u001b[0;34m\u001b[0m\u001b[0m\n\u001b[1;32m     66\u001b[0m       \u001b[0mfiltered_tb\u001b[0m \u001b[0;34m=\u001b[0m \u001b[0m_process_traceback_frames\u001b[0m\u001b[0;34m(\u001b[0m\u001b[0me\u001b[0m\u001b[0;34m.\u001b[0m\u001b[0m__traceback__\u001b[0m\u001b[0;34m)\u001b[0m\u001b[0;34m\u001b[0m\u001b[0;34m\u001b[0m\u001b[0m\n",
            "\u001b[0;32m/usr/local/lib/python3.7/dist-packages/keras/engine/training.py\u001b[0m in \u001b[0;36msave\u001b[0;34m(self, filepath, overwrite, include_optimizer, save_format, signatures, options, save_traces)\u001b[0m\n\u001b[1;32m   2190\u001b[0m     \u001b[0;31m# pylint: enable=line-too-long\u001b[0m\u001b[0;34m\u001b[0m\u001b[0;34m\u001b[0m\u001b[0;34m\u001b[0m\u001b[0m\n\u001b[1;32m   2191\u001b[0m     save.save_model(self, filepath, overwrite, include_optimizer, save_format,\n\u001b[0;32m-> 2192\u001b[0;31m                     signatures, options, save_traces)\n\u001b[0m\u001b[1;32m   2193\u001b[0m \u001b[0;34m\u001b[0m\u001b[0m\n\u001b[1;32m   2194\u001b[0m   \u001b[0;34m@\u001b[0m\u001b[0mtraceback_utils\u001b[0m\u001b[0;34m.\u001b[0m\u001b[0mfilter_traceback\u001b[0m\u001b[0;34m\u001b[0m\u001b[0;34m\u001b[0m\u001b[0m\n",
            "\u001b[0;32m/usr/local/lib/python3.7/dist-packages/keras/utils/traceback_utils.py\u001b[0m in \u001b[0;36merror_handler\u001b[0;34m(*args, **kwargs)\u001b[0m\n\u001b[1;32m     62\u001b[0m     \u001b[0mfiltered_tb\u001b[0m \u001b[0;34m=\u001b[0m \u001b[0;32mNone\u001b[0m\u001b[0;34m\u001b[0m\u001b[0;34m\u001b[0m\u001b[0m\n\u001b[1;32m     63\u001b[0m     \u001b[0;32mtry\u001b[0m\u001b[0;34m:\u001b[0m\u001b[0;34m\u001b[0m\u001b[0;34m\u001b[0m\u001b[0m\n\u001b[0;32m---> 64\u001b[0;31m       \u001b[0;32mreturn\u001b[0m \u001b[0mfn\u001b[0m\u001b[0;34m(\u001b[0m\u001b[0;34m*\u001b[0m\u001b[0margs\u001b[0m\u001b[0;34m,\u001b[0m \u001b[0;34m**\u001b[0m\u001b[0mkwargs\u001b[0m\u001b[0;34m)\u001b[0m\u001b[0;34m\u001b[0m\u001b[0;34m\u001b[0m\u001b[0m\n\u001b[0m\u001b[1;32m     65\u001b[0m     \u001b[0;32mexcept\u001b[0m \u001b[0mException\u001b[0m \u001b[0;32mas\u001b[0m \u001b[0me\u001b[0m\u001b[0;34m:\u001b[0m  \u001b[0;31m# pylint: disable=broad-except\u001b[0m\u001b[0;34m\u001b[0m\u001b[0;34m\u001b[0m\u001b[0m\n\u001b[1;32m     66\u001b[0m       \u001b[0mfiltered_tb\u001b[0m \u001b[0;34m=\u001b[0m \u001b[0m_process_traceback_frames\u001b[0m\u001b[0;34m(\u001b[0m\u001b[0me\u001b[0m\u001b[0;34m.\u001b[0m\u001b[0m__traceback__\u001b[0m\u001b[0;34m)\u001b[0m\u001b[0;34m\u001b[0m\u001b[0;34m\u001b[0m\u001b[0m\n",
            "\u001b[0;32m/usr/local/lib/python3.7/dist-packages/keras/saving/save.py\u001b[0m in \u001b[0;36msave_model\u001b[0;34m(model, filepath, overwrite, include_optimizer, save_format, signatures, options, save_traces)\u001b[0m\n\u001b[1;32m    150\u001b[0m     \u001b[0;32mwith\u001b[0m \u001b[0mgeneric_utils\u001b[0m\u001b[0;34m.\u001b[0m\u001b[0mSharedObjectSavingScope\u001b[0m\u001b[0;34m(\u001b[0m\u001b[0;34m)\u001b[0m\u001b[0;34m:\u001b[0m\u001b[0;34m\u001b[0m\u001b[0;34m\u001b[0m\u001b[0m\n\u001b[1;32m    151\u001b[0m       saved_model_save.save(model, filepath, overwrite, include_optimizer,\n\u001b[0;32m--> 152\u001b[0;31m                             signatures, options, save_traces)\n\u001b[0m\u001b[1;32m    153\u001b[0m \u001b[0;34m\u001b[0m\u001b[0m\n\u001b[1;32m    154\u001b[0m \u001b[0;34m\u001b[0m\u001b[0m\n",
            "\u001b[0;32m/usr/local/lib/python3.7/dist-packages/keras/saving/saved_model/save.py\u001b[0m in \u001b[0;36msave\u001b[0;34m(model, filepath, overwrite, include_optimizer, signatures, options, save_traces)\u001b[0m\n\u001b[1;32m     92\u001b[0m     \u001b[0;32mwith\u001b[0m \u001b[0mutils\u001b[0m\u001b[0;34m.\u001b[0m\u001b[0mkeras_option_scope\u001b[0m\u001b[0;34m(\u001b[0m\u001b[0msave_traces\u001b[0m\u001b[0;34m)\u001b[0m\u001b[0;34m:\u001b[0m\u001b[0;34m\u001b[0m\u001b[0;34m\u001b[0m\u001b[0m\n\u001b[1;32m     93\u001b[0m       saved_nodes, node_paths = save_lib.save_and_return_nodes(\n\u001b[0;32m---> 94\u001b[0;31m           model, filepath, signatures, options)\n\u001b[0m\u001b[1;32m     95\u001b[0m \u001b[0;34m\u001b[0m\u001b[0m\n\u001b[1;32m     96\u001b[0m     \u001b[0;31m# Save all metadata to a separate file in the SavedModel directory.\u001b[0m\u001b[0;34m\u001b[0m\u001b[0;34m\u001b[0m\u001b[0;34m\u001b[0m\u001b[0m\n",
            "\u001b[0;32m/usr/local/lib/python3.7/dist-packages/tensorflow/python/saved_model/save.py\u001b[0m in \u001b[0;36msave_and_return_nodes\u001b[0;34m(obj, export_dir, signatures, options, experimental_skip_checkpoint)\u001b[0m\n\u001b[1;32m   1313\u001b[0m \u001b[0;34m\u001b[0m\u001b[0m\n\u001b[1;32m   1314\u001b[0m   _, exported_graph, object_saver, asset_info, saved_nodes, node_paths = (\n\u001b[0;32m-> 1315\u001b[0;31m       _build_meta_graph(obj, signatures, options, meta_graph_def))\n\u001b[0m\u001b[1;32m   1316\u001b[0m   saved_model.saved_model_schema_version = (\n\u001b[1;32m   1317\u001b[0m       constants.SAVED_MODEL_SCHEMA_VERSION)\n",
            "\u001b[0;32m/usr/local/lib/python3.7/dist-packages/tensorflow/python/saved_model/save.py\u001b[0m in \u001b[0;36m_build_meta_graph\u001b[0;34m(obj, signatures, options, meta_graph_def)\u001b[0m\n\u001b[1;32m   1485\u001b[0m \u001b[0;34m\u001b[0m\u001b[0m\n\u001b[1;32m   1486\u001b[0m   \u001b[0;32mwith\u001b[0m \u001b[0msave_context\u001b[0m\u001b[0;34m.\u001b[0m\u001b[0msave_context\u001b[0m\u001b[0;34m(\u001b[0m\u001b[0moptions\u001b[0m\u001b[0;34m)\u001b[0m\u001b[0;34m:\u001b[0m\u001b[0;34m\u001b[0m\u001b[0;34m\u001b[0m\u001b[0m\n\u001b[0;32m-> 1487\u001b[0;31m     \u001b[0;32mreturn\u001b[0m \u001b[0m_build_meta_graph_impl\u001b[0m\u001b[0;34m(\u001b[0m\u001b[0mobj\u001b[0m\u001b[0;34m,\u001b[0m \u001b[0msignatures\u001b[0m\u001b[0;34m,\u001b[0m \u001b[0moptions\u001b[0m\u001b[0;34m,\u001b[0m \u001b[0mmeta_graph_def\u001b[0m\u001b[0;34m)\u001b[0m\u001b[0;34m\u001b[0m\u001b[0;34m\u001b[0m\u001b[0m\n\u001b[0m",
            "\u001b[0;32m/usr/local/lib/python3.7/dist-packages/tensorflow/python/saved_model/save.py\u001b[0m in \u001b[0;36m_build_meta_graph_impl\u001b[0;34m(obj, signatures, options, meta_graph_def)\u001b[0m\n\u001b[1;32m   1435\u001b[0m   \u001b[0;31m# Use _SaveableView to provide a frozen listing of properties and functions.\u001b[0m\u001b[0;34m\u001b[0m\u001b[0;34m\u001b[0m\u001b[0;34m\u001b[0m\u001b[0m\n\u001b[1;32m   1436\u001b[0m   saveable_view = _SaveableView(checkpoint_graph_view, options,\n\u001b[0;32m-> 1437\u001b[0;31m                                 wrapped_functions)\n\u001b[0m\u001b[1;32m   1438\u001b[0m   \u001b[0mobject_saver\u001b[0m \u001b[0;34m=\u001b[0m \u001b[0mutil\u001b[0m\u001b[0;34m.\u001b[0m\u001b[0mTrackableSaver\u001b[0m\u001b[0;34m(\u001b[0m\u001b[0mcheckpoint_graph_view\u001b[0m\u001b[0;34m)\u001b[0m\u001b[0;34m\u001b[0m\u001b[0;34m\u001b[0m\u001b[0m\n\u001b[1;32m   1439\u001b[0m   asset_info, exported_graph = _fill_meta_graph_def(\n",
            "\u001b[0;32m/usr/local/lib/python3.7/dist-packages/tensorflow/python/saved_model/save.py\u001b[0m in \u001b[0;36m__init__\u001b[0;34m(self, checkpoint_view, options, wrapped_functions)\u001b[0m\n\u001b[1;32m    200\u001b[0m     \u001b[0;31m# Run through the nodes in the object graph first for side effects of\u001b[0m\u001b[0;34m\u001b[0m\u001b[0;34m\u001b[0m\u001b[0;34m\u001b[0m\u001b[0m\n\u001b[1;32m    201\u001b[0m     \u001b[0;31m# creating variables.\u001b[0m\u001b[0;34m\u001b[0m\u001b[0;34m\u001b[0m\u001b[0;34m\u001b[0m\u001b[0m\n\u001b[0;32m--> 202\u001b[0;31m     \u001b[0mself\u001b[0m\u001b[0;34m.\u001b[0m\u001b[0m_trace_all_concrete_functions\u001b[0m\u001b[0;34m(\u001b[0m\u001b[0;34m)\u001b[0m\u001b[0;34m\u001b[0m\u001b[0;34m\u001b[0m\u001b[0m\n\u001b[0m\u001b[1;32m    203\u001b[0m \u001b[0;34m\u001b[0m\u001b[0m\n\u001b[1;32m    204\u001b[0m     (self._trackable_objects, self.node_paths, self._node_ids,\n",
            "\u001b[0;32m/usr/local/lib/python3.7/dist-packages/tensorflow/python/saved_model/save.py\u001b[0m in \u001b[0;36m_trace_all_concrete_functions\u001b[0;34m(self)\u001b[0m\n\u001b[1;32m    302\u001b[0m     \"\"\"\n\u001b[1;32m    303\u001b[0m     \u001b[0;32mfor\u001b[0m \u001b[0mobj\u001b[0m \u001b[0;32min\u001b[0m \u001b[0mself\u001b[0m\u001b[0;34m.\u001b[0m\u001b[0mcheckpoint_view\u001b[0m\u001b[0;34m.\u001b[0m\u001b[0mlist_objects\u001b[0m\u001b[0;34m(\u001b[0m\u001b[0;34m)\u001b[0m\u001b[0;34m:\u001b[0m\u001b[0;34m\u001b[0m\u001b[0;34m\u001b[0m\u001b[0m\n\u001b[0;32m--> 304\u001b[0;31m       \u001b[0;32mfor\u001b[0m \u001b[0mfunction\u001b[0m \u001b[0;32min\u001b[0m \u001b[0mself\u001b[0m\u001b[0;34m.\u001b[0m\u001b[0mcheckpoint_view\u001b[0m\u001b[0;34m.\u001b[0m\u001b[0mlist_functions\u001b[0m\u001b[0;34m(\u001b[0m\u001b[0mobj\u001b[0m\u001b[0;34m)\u001b[0m\u001b[0;34m.\u001b[0m\u001b[0mvalues\u001b[0m\u001b[0;34m(\u001b[0m\u001b[0;34m)\u001b[0m\u001b[0;34m:\u001b[0m\u001b[0;34m\u001b[0m\u001b[0;34m\u001b[0m\u001b[0m\n\u001b[0m\u001b[1;32m    305\u001b[0m         \u001b[0;32mif\u001b[0m \u001b[0misinstance\u001b[0m\u001b[0;34m(\u001b[0m\u001b[0mfunction\u001b[0m\u001b[0;34m,\u001b[0m \u001b[0mdef_function\u001b[0m\u001b[0;34m.\u001b[0m\u001b[0mFunction\u001b[0m\u001b[0;34m)\u001b[0m\u001b[0;34m:\u001b[0m\u001b[0;34m\u001b[0m\u001b[0;34m\u001b[0m\u001b[0m\n\u001b[1;32m    306\u001b[0m           \u001b[0mfunction\u001b[0m\u001b[0;34m.\u001b[0m\u001b[0m_list_all_concrete_functions_for_serialization\u001b[0m\u001b[0;34m(\u001b[0m\u001b[0;34m)\u001b[0m  \u001b[0;31m# pylint: disable=protected-access\u001b[0m\u001b[0;34m\u001b[0m\u001b[0;34m\u001b[0m\u001b[0m\n",
            "\u001b[0;32m/usr/local/lib/python3.7/dist-packages/tensorflow/python/saved_model/save.py\u001b[0m in \u001b[0;36mlist_functions\u001b[0;34m(self, obj)\u001b[0m\n\u001b[1;32m    164\u001b[0m     \u001b[0;32mif\u001b[0m \u001b[0mobj_functions\u001b[0m \u001b[0;32mis\u001b[0m \u001b[0;32mNone\u001b[0m\u001b[0;34m:\u001b[0m\u001b[0;34m\u001b[0m\u001b[0;34m\u001b[0m\u001b[0m\n\u001b[1;32m    165\u001b[0m       obj_functions = obj._list_functions_for_serialization(  # pylint: disable=protected-access\n\u001b[0;32m--> 166\u001b[0;31m           self._serialization_cache)\n\u001b[0m\u001b[1;32m    167\u001b[0m       \u001b[0mself\u001b[0m\u001b[0;34m.\u001b[0m\u001b[0m_functions\u001b[0m\u001b[0;34m[\u001b[0m\u001b[0mobj\u001b[0m\u001b[0;34m]\u001b[0m \u001b[0;34m=\u001b[0m \u001b[0mobj_functions\u001b[0m\u001b[0;34m\u001b[0m\u001b[0;34m\u001b[0m\u001b[0m\n\u001b[1;32m    168\u001b[0m     \u001b[0;32mreturn\u001b[0m \u001b[0mobj_functions\u001b[0m\u001b[0;34m\u001b[0m\u001b[0;34m\u001b[0m\u001b[0m\n",
            "\u001b[0;32m/usr/local/lib/python3.7/dist-packages/keras/engine/base_layer.py\u001b[0m in \u001b[0;36m_list_functions_for_serialization\u001b[0;34m(self, serialization_cache)\u001b[0m\n\u001b[1;32m   3149\u001b[0m   \u001b[0;32mdef\u001b[0m \u001b[0m_list_functions_for_serialization\u001b[0m\u001b[0;34m(\u001b[0m\u001b[0mself\u001b[0m\u001b[0;34m,\u001b[0m \u001b[0mserialization_cache\u001b[0m\u001b[0;34m)\u001b[0m\u001b[0;34m:\u001b[0m\u001b[0;34m\u001b[0m\u001b[0;34m\u001b[0m\u001b[0m\n\u001b[1;32m   3150\u001b[0m     return (self._trackable_saved_model_saver\n\u001b[0;32m-> 3151\u001b[0;31m             .list_functions_for_serialization(serialization_cache))\n\u001b[0m\u001b[1;32m   3152\u001b[0m \u001b[0;34m\u001b[0m\u001b[0m\n\u001b[1;32m   3153\u001b[0m   \u001b[0;34m@\u001b[0m\u001b[0mproperty\u001b[0m\u001b[0;34m\u001b[0m\u001b[0;34m\u001b[0m\u001b[0m\n",
            "\u001b[0;32m/usr/local/lib/python3.7/dist-packages/keras/saving/saved_model/base_serialization.py\u001b[0m in \u001b[0;36mlist_functions_for_serialization\u001b[0;34m(self, serialization_cache)\u001b[0m\n\u001b[1;32m     98\u001b[0m     fns.update(\n\u001b[1;32m     99\u001b[0m         tf.__internal__.tracking.AutoTrackable._list_functions_for_serialization(  # pylint:disable=protected-access\n\u001b[0;32m--> 100\u001b[0;31m             self.obj, serialization_cache))\n\u001b[0m\u001b[1;32m    101\u001b[0m     \u001b[0;32mreturn\u001b[0m \u001b[0mfns\u001b[0m\u001b[0;34m\u001b[0m\u001b[0;34m\u001b[0m\u001b[0m\n\u001b[1;32m    102\u001b[0m \u001b[0;34m\u001b[0m\u001b[0m\n",
            "\u001b[0;32m/usr/local/lib/python3.7/dist-packages/tensorflow/python/training/tracking/tracking.py\u001b[0m in \u001b[0;36m_list_functions_for_serialization\u001b[0;34m(self, unused_serialization_cache)\u001b[0m\n\u001b[1;32m     98\u001b[0m       \u001b[0mlogging_verbosity\u001b[0m \u001b[0;34m=\u001b[0m \u001b[0mlogging\u001b[0m\u001b[0;34m.\u001b[0m\u001b[0mget_verbosity\u001b[0m\u001b[0;34m(\u001b[0m\u001b[0;34m)\u001b[0m\u001b[0;34m\u001b[0m\u001b[0;34m\u001b[0m\u001b[0m\n\u001b[1;32m     99\u001b[0m       \u001b[0;32mtry\u001b[0m\u001b[0;34m:\u001b[0m\u001b[0;34m\u001b[0m\u001b[0;34m\u001b[0m\u001b[0m\n\u001b[0;32m--> 100\u001b[0;31m         \u001b[0mlogging\u001b[0m\u001b[0;34m.\u001b[0m\u001b[0mset_verbosity\u001b[0m\u001b[0;34m(\u001b[0m\u001b[0mlogging\u001b[0m\u001b[0;34m.\u001b[0m\u001b[0mFATAL\u001b[0m\u001b[0;34m)\u001b[0m\u001b[0;34m\u001b[0m\u001b[0;34m\u001b[0m\u001b[0m\n\u001b[0m\u001b[1;32m    101\u001b[0m         \u001b[0;32mwith\u001b[0m \u001b[0mwarnings\u001b[0m\u001b[0;34m.\u001b[0m\u001b[0mcatch_warnings\u001b[0m\u001b[0;34m(\u001b[0m\u001b[0;34m)\u001b[0m\u001b[0;34m:\u001b[0m\u001b[0;34m\u001b[0m\u001b[0;34m\u001b[0m\u001b[0m\n\u001b[1;32m    102\u001b[0m           \u001b[0mwarnings\u001b[0m\u001b[0;34m.\u001b[0m\u001b[0msimplefilter\u001b[0m\u001b[0;34m(\u001b[0m\u001b[0;34m\"ignore\"\u001b[0m\u001b[0;34m)\u001b[0m\u001b[0;34m\u001b[0m\u001b[0;34m\u001b[0m\u001b[0m\n",
            "\u001b[0;32m/usr/local/lib/python3.7/dist-packages/absl/logging/__init__.py\u001b[0m in \u001b[0;36mset_verbosity\u001b[0;34m(v)\u001b[0m\n\u001b[1;32m    338\u001b[0m \u001b[0;34m\u001b[0m\u001b[0m\n\u001b[1;32m    339\u001b[0m \u001b[0;34m\u001b[0m\u001b[0m\n\u001b[0;32m--> 340\u001b[0;31m \u001b[0;32mdef\u001b[0m \u001b[0mset_verbosity\u001b[0m\u001b[0;34m(\u001b[0m\u001b[0mv\u001b[0m\u001b[0;34m)\u001b[0m\u001b[0;34m:\u001b[0m\u001b[0;34m\u001b[0m\u001b[0;34m\u001b[0m\u001b[0m\n\u001b[0m\u001b[1;32m    341\u001b[0m   \"\"\"Sets the logging verbosity.\n\u001b[1;32m    342\u001b[0m \u001b[0;34m\u001b[0m\u001b[0m\n",
            "\u001b[0;31mKeyboardInterrupt\u001b[0m: "
          ]
        }
      ]
    },
    {
      "cell_type": "code",
      "source": [
        "acc = history.history['acc']\n",
        "val_acc = history.history['val_acc']\n",
        "\n",
        "loss = history.history['loss']\n",
        "val_loss = history.history['val_loss']\n",
        "\n",
        "epochs_range = range(10)\n",
        "\n",
        "plt.figure(figsize=(8, 8))\n",
        "plt.subplot(1, 2, 1)\n",
        "plt.plot(epochs_range, acc, label='Training Accuracy')\n",
        "plt.plot(epochs_range, val_acc, label='Validation Accuracy')\n",
        "plt.legend(loc='lower right')\n",
        "plt.title('Training and Validation Accuracy')\n",
        "\n",
        "plt.subplot(1, 2, 2)\n",
        "plt.plot(epochs_range, loss, label='Training Loss')\n",
        "plt.plot(epochs_range, val_loss, label='Validation Loss')\n",
        "plt.legend(loc='upper right')\n",
        "plt.title('Training and Validation Loss')\n",
        "plt.show()\n"
      ],
      "metadata": {
        "id": "pz4Yhsj7QkBB"
      },
      "execution_count": null,
      "outputs": []
    },
    {
      "cell_type": "markdown",
      "source": [
        "# Things to Try:\n",
        "\n",
        "\n",
        "\n",
        "\n",
        "\n",
        "*   List item\n",
        "*   List item\n",
        "*   List item\n",
        "*   List item\n",
        "\n",
        "\n",
        "\n",
        "\n",
        "\n",
        "\n"
      ],
      "metadata": {
        "id": "fWNiG8_LOf5-"
      }
    },
    {
      "cell_type": "code",
      "source": [
        ""
      ],
      "metadata": {
        "id": "kyYikBw_OmbN"
      },
      "execution_count": null,
      "outputs": []
    }
  ]
}